{
 "cells": [
  {
   "cell_type": "markdown",
   "metadata": {},
   "source": [
    "# What factors affect a person's commitment to honoring his/her Doctor's appointment?"
   ]
  },
  {
   "cell_type": "markdown",
   "metadata": {},
   "source": [
    "<a id='intro'></a>\n",
    "## Introduction\n",
    "\n",
    "> Alot of times, people go to hospitals owing to concerns about their health. They appear to be badly in need medical attention but, right after booking appointments, they don't show up for it. What could be responsible for this? In order to understand this phenomena, we've picked a case study with dataset. This dataset collects information\n",
    "from 100k medical appointments in\n",
    "Brazil and is focused on the question\n",
    "of whether or not patients show up\n",
    "for their appointment. A number of\n",
    "characteristics about the patients are\n",
    "included in each row.\n",
    ">\n",
    ">● **‘PatientId’** unique number code identifying each patient.\n",
    ">\n",
    ">● **‘AppointmentID’** unique identifier used to track details of a patient's appointment.\n",
    ">\n",
    ">● **‘Gender’** pretty straight forward - sex of patient - Male(M) or Female(F).\n",
    ">\n",
    ">● **‘ScheduledDay’** tells us on\n",
    "what day the patient set up their\n",
    "appointment.\n",
    ">\n",
    ">● **‘AppointmentDay’** tells us on what day the patient was billed to see the Doctor.\n",
    ">\n",
    ">● **‘Age’** how old the patient was as at the time of taking data.\n",
    ">\n",
    ">● **‘Neighborhood’** indicates the\n",
    "location of the hospital.\n",
    ">\n",
    ">● **‘Scholarship’** indicates\n",
    "whether or not the patient is\n",
    "enrolled in Brasilian welfare\n",
    "program Bolsa Família.\n",
    ">\n",
    ">● **‘Hipertension’** is the patient hypertensive? 1 - Yes, 0 - No.\n",
    ">\n",
    ">● **‘Diabetes’** is the patient diabetic? 1 - Yes, 0 - No.\n",
    "> \n",
    ">● **‘Alcoholism’** does the patient suffer alcoholism? 1 - Yes, 0 - No.\n",
    ">\n",
    ">● **‘Handcap’** is the patient handicapped? 1 - Yes, 0 - No.\n",
    ">\n",
    ">● **‘SMS_received’** did the patient receive a notification SMS prior to appointment day?\n",
    ">\n",
    ">● **‘No-show’** did the patient not show up for his/her appointment? Yes - patient missed appointment, No - patient didn't miss.\n",
    ">\n",
    ">● **‘App-kept’** replacement for No-show above. Did the patient keep his/her appointment? 1 - Yes. 0 - No.\n",
    ">\n",
    ">● **‘Wait_time’** length of time a patient has to wait, right after scheduling, before seeing a Doctor.\n",
    ">\n",
    ">● **‘Conditions_total’** total number of conditions suffered by a patient. Value ranges from 1 to 4.\n",
    ">\n",
    ">\n",
    "## Questions\n",
    "> 1. What percentage of  the people kept their doctor's appointment?\n",
    ">\n",
    "> 2. Does a longer or shorter wait time predict whether or not a patient would keep his/her Doctor's appointment?\n",
    ">\n",
    "> 3. Did patients that suffer more than 1 medical condition rate higher on keeping appointments than those that suffered less?\n",
    ">\n",
    "> 4. Did patients with unspecified medical conditions have a higher rate of keeping Doctor's appointments than those with recorded conditions?\n",
    ">\n",
    "> 5. Which of the conditions had the highest number of sufferers?\n",
    ">"
   ]
  },
  {
   "cell_type": "code",
   "execution_count": 1,
   "metadata": {},
   "outputs": [],
   "source": [
    "# First, we import all necessary libraries - pandas, numpy, matplotlib and seaborn.\n",
    "\n",
    "import pandas as pd # To understand the data structure.\n",
    "import numpy as np # Numerical python for arrays.\n",
    "import matplotlib.pyplot as plt # Need graphs?\n",
    "import seaborn as sns # Some visuals even more stunning?\n",
    "\n",
    "%matplotlib inline\n"
   ]
  },
  {
   "cell_type": "markdown",
   "metadata": {},
   "source": [
    "Pandas is an open source, BSD-licensed library providing high-performance, easy-to-use data structures and data analysis tools for the Python programming language. (Source: Pandas Documentation)\n",
    "\n",
    "NumPy is the fundamental package for scientific computing in Python. (Source: Numpy Documentation)\n",
    "\n",
    "Matplotlib is a comprehensive library for creating static, animated, and interactive visualizations in Python. (Source: Matplotlib Documentation)\n",
    "\n",
    "Seaborn is a Python data visualization library based on matplotlib. (Source: Seaborn Documentation)\n",
    "\n",
    "Matplotlib inline causes visualizations to be displayed right beneath their codes."
   ]
  },
  {
   "cell_type": "markdown",
   "metadata": {},
   "source": [
    "<a id='wrangling'></a>\n",
    "## Data Wrangling\n",
    "\n",
    "> **Basics**: Here, we bring our data on screen, have a first look, then very keen look at it. We inspect for cleanliness, we trim and we clean. We want those figures polished and ready to be analyzed with ease.\n",
    "\n",
    "\n",
    "### General Properties"
   ]
  },
  {
   "cell_type": "code",
   "execution_count": 2,
   "metadata": {
    "scrolled": false
   },
   "outputs": [
    {
     "data": {
      "text/html": [
       "<div>\n",
       "<style scoped>\n",
       "    .dataframe tbody tr th:only-of-type {\n",
       "        vertical-align: middle;\n",
       "    }\n",
       "\n",
       "    .dataframe tbody tr th {\n",
       "        vertical-align: top;\n",
       "    }\n",
       "\n",
       "    .dataframe thead th {\n",
       "        text-align: right;\n",
       "    }\n",
       "</style>\n",
       "<table border=\"1\" class=\"dataframe\">\n",
       "  <thead>\n",
       "    <tr style=\"text-align: right;\">\n",
       "      <th></th>\n",
       "      <th>PatientId</th>\n",
       "      <th>AppointmentID</th>\n",
       "      <th>Gender</th>\n",
       "      <th>ScheduledDay</th>\n",
       "      <th>AppointmentDay</th>\n",
       "      <th>Age</th>\n",
       "      <th>Neighbourhood</th>\n",
       "      <th>Scholarship</th>\n",
       "      <th>Hipertension</th>\n",
       "      <th>Diabetes</th>\n",
       "      <th>Alcoholism</th>\n",
       "      <th>Handcap</th>\n",
       "      <th>SMS_received</th>\n",
       "      <th>No-show</th>\n",
       "    </tr>\n",
       "  </thead>\n",
       "  <tbody>\n",
       "    <tr>\n",
       "      <th>0</th>\n",
       "      <td>2.987250e+13</td>\n",
       "      <td>5642903</td>\n",
       "      <td>F</td>\n",
       "      <td>2016-04-29T18:38:08Z</td>\n",
       "      <td>2016-04-29T00:00:00Z</td>\n",
       "      <td>62</td>\n",
       "      <td>JARDIM DA PENHA</td>\n",
       "      <td>0</td>\n",
       "      <td>1</td>\n",
       "      <td>0</td>\n",
       "      <td>0</td>\n",
       "      <td>0</td>\n",
       "      <td>0</td>\n",
       "      <td>No</td>\n",
       "    </tr>\n",
       "    <tr>\n",
       "      <th>1</th>\n",
       "      <td>5.589978e+14</td>\n",
       "      <td>5642503</td>\n",
       "      <td>M</td>\n",
       "      <td>2016-04-29T16:08:27Z</td>\n",
       "      <td>2016-04-29T00:00:00Z</td>\n",
       "      <td>56</td>\n",
       "      <td>JARDIM DA PENHA</td>\n",
       "      <td>0</td>\n",
       "      <td>0</td>\n",
       "      <td>0</td>\n",
       "      <td>0</td>\n",
       "      <td>0</td>\n",
       "      <td>0</td>\n",
       "      <td>No</td>\n",
       "    </tr>\n",
       "    <tr>\n",
       "      <th>2</th>\n",
       "      <td>4.262962e+12</td>\n",
       "      <td>5642549</td>\n",
       "      <td>F</td>\n",
       "      <td>2016-04-29T16:19:04Z</td>\n",
       "      <td>2016-04-29T00:00:00Z</td>\n",
       "      <td>62</td>\n",
       "      <td>MATA DA PRAIA</td>\n",
       "      <td>0</td>\n",
       "      <td>0</td>\n",
       "      <td>0</td>\n",
       "      <td>0</td>\n",
       "      <td>0</td>\n",
       "      <td>0</td>\n",
       "      <td>No</td>\n",
       "    </tr>\n",
       "    <tr>\n",
       "      <th>3</th>\n",
       "      <td>8.679512e+11</td>\n",
       "      <td>5642828</td>\n",
       "      <td>F</td>\n",
       "      <td>2016-04-29T17:29:31Z</td>\n",
       "      <td>2016-04-29T00:00:00Z</td>\n",
       "      <td>8</td>\n",
       "      <td>PONTAL DE CAMBURI</td>\n",
       "      <td>0</td>\n",
       "      <td>0</td>\n",
       "      <td>0</td>\n",
       "      <td>0</td>\n",
       "      <td>0</td>\n",
       "      <td>0</td>\n",
       "      <td>No</td>\n",
       "    </tr>\n",
       "    <tr>\n",
       "      <th>4</th>\n",
       "      <td>8.841186e+12</td>\n",
       "      <td>5642494</td>\n",
       "      <td>F</td>\n",
       "      <td>2016-04-29T16:07:23Z</td>\n",
       "      <td>2016-04-29T00:00:00Z</td>\n",
       "      <td>56</td>\n",
       "      <td>JARDIM DA PENHA</td>\n",
       "      <td>0</td>\n",
       "      <td>1</td>\n",
       "      <td>1</td>\n",
       "      <td>0</td>\n",
       "      <td>0</td>\n",
       "      <td>0</td>\n",
       "      <td>No</td>\n",
       "    </tr>\n",
       "    <tr>\n",
       "      <th>5</th>\n",
       "      <td>9.598513e+13</td>\n",
       "      <td>5626772</td>\n",
       "      <td>F</td>\n",
       "      <td>2016-04-27T08:36:51Z</td>\n",
       "      <td>2016-04-29T00:00:00Z</td>\n",
       "      <td>76</td>\n",
       "      <td>REPÚBLICA</td>\n",
       "      <td>0</td>\n",
       "      <td>1</td>\n",
       "      <td>0</td>\n",
       "      <td>0</td>\n",
       "      <td>0</td>\n",
       "      <td>0</td>\n",
       "      <td>No</td>\n",
       "    </tr>\n",
       "    <tr>\n",
       "      <th>6</th>\n",
       "      <td>7.336882e+14</td>\n",
       "      <td>5630279</td>\n",
       "      <td>F</td>\n",
       "      <td>2016-04-27T15:05:12Z</td>\n",
       "      <td>2016-04-29T00:00:00Z</td>\n",
       "      <td>23</td>\n",
       "      <td>GOIABEIRAS</td>\n",
       "      <td>0</td>\n",
       "      <td>0</td>\n",
       "      <td>0</td>\n",
       "      <td>0</td>\n",
       "      <td>0</td>\n",
       "      <td>0</td>\n",
       "      <td>Yes</td>\n",
       "    </tr>\n",
       "    <tr>\n",
       "      <th>7</th>\n",
       "      <td>3.449833e+12</td>\n",
       "      <td>5630575</td>\n",
       "      <td>F</td>\n",
       "      <td>2016-04-27T15:39:58Z</td>\n",
       "      <td>2016-04-29T00:00:00Z</td>\n",
       "      <td>39</td>\n",
       "      <td>GOIABEIRAS</td>\n",
       "      <td>0</td>\n",
       "      <td>0</td>\n",
       "      <td>0</td>\n",
       "      <td>0</td>\n",
       "      <td>0</td>\n",
       "      <td>0</td>\n",
       "      <td>Yes</td>\n",
       "    </tr>\n",
       "    <tr>\n",
       "      <th>8</th>\n",
       "      <td>5.639473e+13</td>\n",
       "      <td>5638447</td>\n",
       "      <td>F</td>\n",
       "      <td>2016-04-29T08:02:16Z</td>\n",
       "      <td>2016-04-29T00:00:00Z</td>\n",
       "      <td>21</td>\n",
       "      <td>ANDORINHAS</td>\n",
       "      <td>0</td>\n",
       "      <td>0</td>\n",
       "      <td>0</td>\n",
       "      <td>0</td>\n",
       "      <td>0</td>\n",
       "      <td>0</td>\n",
       "      <td>No</td>\n",
       "    </tr>\n",
       "    <tr>\n",
       "      <th>9</th>\n",
       "      <td>7.812456e+13</td>\n",
       "      <td>5629123</td>\n",
       "      <td>F</td>\n",
       "      <td>2016-04-27T12:48:25Z</td>\n",
       "      <td>2016-04-29T00:00:00Z</td>\n",
       "      <td>19</td>\n",
       "      <td>CONQUISTA</td>\n",
       "      <td>0</td>\n",
       "      <td>0</td>\n",
       "      <td>0</td>\n",
       "      <td>0</td>\n",
       "      <td>0</td>\n",
       "      <td>0</td>\n",
       "      <td>No</td>\n",
       "    </tr>\n",
       "  </tbody>\n",
       "</table>\n",
       "</div>"
      ],
      "text/plain": [
       "      PatientId  AppointmentID Gender          ScheduledDay  \\\n",
       "0  2.987250e+13        5642903      F  2016-04-29T18:38:08Z   \n",
       "1  5.589978e+14        5642503      M  2016-04-29T16:08:27Z   \n",
       "2  4.262962e+12        5642549      F  2016-04-29T16:19:04Z   \n",
       "3  8.679512e+11        5642828      F  2016-04-29T17:29:31Z   \n",
       "4  8.841186e+12        5642494      F  2016-04-29T16:07:23Z   \n",
       "5  9.598513e+13        5626772      F  2016-04-27T08:36:51Z   \n",
       "6  7.336882e+14        5630279      F  2016-04-27T15:05:12Z   \n",
       "7  3.449833e+12        5630575      F  2016-04-27T15:39:58Z   \n",
       "8  5.639473e+13        5638447      F  2016-04-29T08:02:16Z   \n",
       "9  7.812456e+13        5629123      F  2016-04-27T12:48:25Z   \n",
       "\n",
       "         AppointmentDay  Age      Neighbourhood  Scholarship  Hipertension  \\\n",
       "0  2016-04-29T00:00:00Z   62    JARDIM DA PENHA            0             1   \n",
       "1  2016-04-29T00:00:00Z   56    JARDIM DA PENHA            0             0   \n",
       "2  2016-04-29T00:00:00Z   62      MATA DA PRAIA            0             0   \n",
       "3  2016-04-29T00:00:00Z    8  PONTAL DE CAMBURI            0             0   \n",
       "4  2016-04-29T00:00:00Z   56    JARDIM DA PENHA            0             1   \n",
       "5  2016-04-29T00:00:00Z   76          REPÚBLICA            0             1   \n",
       "6  2016-04-29T00:00:00Z   23         GOIABEIRAS            0             0   \n",
       "7  2016-04-29T00:00:00Z   39         GOIABEIRAS            0             0   \n",
       "8  2016-04-29T00:00:00Z   21         ANDORINHAS            0             0   \n",
       "9  2016-04-29T00:00:00Z   19          CONQUISTA            0             0   \n",
       "\n",
       "   Diabetes  Alcoholism  Handcap  SMS_received No-show  \n",
       "0         0           0        0             0      No  \n",
       "1         0           0        0             0      No  \n",
       "2         0           0        0             0      No  \n",
       "3         0           0        0             0      No  \n",
       "4         1           0        0             0      No  \n",
       "5         0           0        0             0      No  \n",
       "6         0           0        0             0     Yes  \n",
       "7         0           0        0             0     Yes  \n",
       "8         0           0        0             0      No  \n",
       "9         0           0        0             0      No  "
      ]
     },
     "execution_count": 2,
     "metadata": {},
     "output_type": "execute_result"
    }
   ],
   "source": [
    "df_app = pd.read_csv('no_show.csv') # Our Data frame.\n",
    "df_app.head(10) # A look at first 10 rows."
   ]
  },
  {
   "cell_type": "markdown",
   "metadata": {},
   "source": [
    "*Generating data frame for our data, using provided csv file of course. Then, we'll check out data types and seek out missing, duplicated or erroneously recorded data.*"
   ]
  },
  {
   "cell_type": "markdown",
   "metadata": {},
   "source": [
    "***Thoughts***\n",
    ">\n",
    ">- Can't unsee typos in column headings - *Hipertension* and *Handcap*.\n",
    ">- There exist people with no \"reported\" medical conditions that did or did not keep their appointments. They'll be treated as healthy people. Not everyone who visits a doctor is sick anyway. \n",
    ">- The *No-show* column is super confusing. *'No'* is appointment kept, *'Yes'* is appointment not kept.\n",
    ">- Patient Ids look super weird and the dates look even weirder. Can't seem to make any sense out of the \"T\" and \"Zees.\"\n",
    ">\n",
    "*We'll see what else we can find...*"
   ]
  },
  {
   "cell_type": "code",
   "execution_count": 3,
   "metadata": {
    "scrolled": true
   },
   "outputs": [
    {
     "data": {
      "text/plain": [
       "(110527, 14)"
      ]
     },
     "execution_count": 3,
     "metadata": {},
     "output_type": "execute_result"
    }
   ],
   "source": [
    "df_app.shape # Dimensions of our data"
   ]
  },
  {
   "cell_type": "markdown",
   "metadata": {},
   "source": [
    ">- 110527 rows, 14 columns. *That's 110527 scheduled Doctor's appointments of people with zero, 1 or more \"reported\" medical conditions that did or did not see the doctor.*"
   ]
  },
  {
   "cell_type": "code",
   "execution_count": 4,
   "metadata": {
    "scrolled": false
   },
   "outputs": [
    {
     "data": {
      "text/html": [
       "<div>\n",
       "<style scoped>\n",
       "    .dataframe tbody tr th:only-of-type {\n",
       "        vertical-align: middle;\n",
       "    }\n",
       "\n",
       "    .dataframe tbody tr th {\n",
       "        vertical-align: top;\n",
       "    }\n",
       "\n",
       "    .dataframe thead th {\n",
       "        text-align: right;\n",
       "    }\n",
       "</style>\n",
       "<table border=\"1\" class=\"dataframe\">\n",
       "  <thead>\n",
       "    <tr style=\"text-align: right;\">\n",
       "      <th></th>\n",
       "      <th>PatientId</th>\n",
       "      <th>AppointmentID</th>\n",
       "      <th>Age</th>\n",
       "      <th>Scholarship</th>\n",
       "      <th>Hipertension</th>\n",
       "      <th>Diabetes</th>\n",
       "      <th>Alcoholism</th>\n",
       "      <th>Handcap</th>\n",
       "      <th>SMS_received</th>\n",
       "    </tr>\n",
       "  </thead>\n",
       "  <tbody>\n",
       "    <tr>\n",
       "      <th>count</th>\n",
       "      <td>1.105270e+05</td>\n",
       "      <td>1.105270e+05</td>\n",
       "      <td>110527.000000</td>\n",
       "      <td>110527.000000</td>\n",
       "      <td>110527.000000</td>\n",
       "      <td>110527.000000</td>\n",
       "      <td>110527.000000</td>\n",
       "      <td>110527.000000</td>\n",
       "      <td>110527.000000</td>\n",
       "    </tr>\n",
       "    <tr>\n",
       "      <th>mean</th>\n",
       "      <td>1.474963e+14</td>\n",
       "      <td>5.675305e+06</td>\n",
       "      <td>37.088874</td>\n",
       "      <td>0.098266</td>\n",
       "      <td>0.197246</td>\n",
       "      <td>0.071865</td>\n",
       "      <td>0.030400</td>\n",
       "      <td>0.022248</td>\n",
       "      <td>0.321026</td>\n",
       "    </tr>\n",
       "    <tr>\n",
       "      <th>std</th>\n",
       "      <td>2.560949e+14</td>\n",
       "      <td>7.129575e+04</td>\n",
       "      <td>23.110205</td>\n",
       "      <td>0.297675</td>\n",
       "      <td>0.397921</td>\n",
       "      <td>0.258265</td>\n",
       "      <td>0.171686</td>\n",
       "      <td>0.161543</td>\n",
       "      <td>0.466873</td>\n",
       "    </tr>\n",
       "    <tr>\n",
       "      <th>min</th>\n",
       "      <td>3.921784e+04</td>\n",
       "      <td>5.030230e+06</td>\n",
       "      <td>-1.000000</td>\n",
       "      <td>0.000000</td>\n",
       "      <td>0.000000</td>\n",
       "      <td>0.000000</td>\n",
       "      <td>0.000000</td>\n",
       "      <td>0.000000</td>\n",
       "      <td>0.000000</td>\n",
       "    </tr>\n",
       "    <tr>\n",
       "      <th>25%</th>\n",
       "      <td>4.172614e+12</td>\n",
       "      <td>5.640286e+06</td>\n",
       "      <td>18.000000</td>\n",
       "      <td>0.000000</td>\n",
       "      <td>0.000000</td>\n",
       "      <td>0.000000</td>\n",
       "      <td>0.000000</td>\n",
       "      <td>0.000000</td>\n",
       "      <td>0.000000</td>\n",
       "    </tr>\n",
       "    <tr>\n",
       "      <th>50%</th>\n",
       "      <td>3.173184e+13</td>\n",
       "      <td>5.680573e+06</td>\n",
       "      <td>37.000000</td>\n",
       "      <td>0.000000</td>\n",
       "      <td>0.000000</td>\n",
       "      <td>0.000000</td>\n",
       "      <td>0.000000</td>\n",
       "      <td>0.000000</td>\n",
       "      <td>0.000000</td>\n",
       "    </tr>\n",
       "    <tr>\n",
       "      <th>75%</th>\n",
       "      <td>9.439172e+13</td>\n",
       "      <td>5.725524e+06</td>\n",
       "      <td>55.000000</td>\n",
       "      <td>0.000000</td>\n",
       "      <td>0.000000</td>\n",
       "      <td>0.000000</td>\n",
       "      <td>0.000000</td>\n",
       "      <td>0.000000</td>\n",
       "      <td>1.000000</td>\n",
       "    </tr>\n",
       "    <tr>\n",
       "      <th>max</th>\n",
       "      <td>9.999816e+14</td>\n",
       "      <td>5.790484e+06</td>\n",
       "      <td>115.000000</td>\n",
       "      <td>1.000000</td>\n",
       "      <td>1.000000</td>\n",
       "      <td>1.000000</td>\n",
       "      <td>1.000000</td>\n",
       "      <td>4.000000</td>\n",
       "      <td>1.000000</td>\n",
       "    </tr>\n",
       "  </tbody>\n",
       "</table>\n",
       "</div>"
      ],
      "text/plain": [
       "          PatientId  AppointmentID            Age    Scholarship  \\\n",
       "count  1.105270e+05   1.105270e+05  110527.000000  110527.000000   \n",
       "mean   1.474963e+14   5.675305e+06      37.088874       0.098266   \n",
       "std    2.560949e+14   7.129575e+04      23.110205       0.297675   \n",
       "min    3.921784e+04   5.030230e+06      -1.000000       0.000000   \n",
       "25%    4.172614e+12   5.640286e+06      18.000000       0.000000   \n",
       "50%    3.173184e+13   5.680573e+06      37.000000       0.000000   \n",
       "75%    9.439172e+13   5.725524e+06      55.000000       0.000000   \n",
       "max    9.999816e+14   5.790484e+06     115.000000       1.000000   \n",
       "\n",
       "        Hipertension       Diabetes     Alcoholism        Handcap  \\\n",
       "count  110527.000000  110527.000000  110527.000000  110527.000000   \n",
       "mean        0.197246       0.071865       0.030400       0.022248   \n",
       "std         0.397921       0.258265       0.171686       0.161543   \n",
       "min         0.000000       0.000000       0.000000       0.000000   \n",
       "25%         0.000000       0.000000       0.000000       0.000000   \n",
       "50%         0.000000       0.000000       0.000000       0.000000   \n",
       "75%         0.000000       0.000000       0.000000       0.000000   \n",
       "max         1.000000       1.000000       1.000000       4.000000   \n",
       "\n",
       "        SMS_received  \n",
       "count  110527.000000  \n",
       "mean        0.321026  \n",
       "std         0.466873  \n",
       "min         0.000000  \n",
       "25%         0.000000  \n",
       "50%         0.000000  \n",
       "75%         1.000000  \n",
       "max         1.000000  "
      ]
     },
     "execution_count": 4,
     "metadata": {},
     "output_type": "execute_result"
    }
   ],
   "source": [
    "df_app.describe() # Some statistics."
   ]
  },
  {
   "cell_type": "markdown",
   "metadata": {},
   "source": [
    ">- *There is a negative showing up in the age column (-1). That's an impossible figure.* \n",
    ">- *I wonder why *No-show* can't come in 1s and zeros like the rest of the columns beside it. They all obviously mean 1 - Yes, and 0 - No.* \n",
    "\n",
    "*But are those only issues? We probe even further...*"
   ]
  },
  {
   "cell_type": "code",
   "execution_count": 5,
   "metadata": {
    "scrolled": false
   },
   "outputs": [
    {
     "name": "stdout",
     "output_type": "stream",
     "text": [
      "<class 'pandas.core.frame.DataFrame'>\n",
      "RangeIndex: 110527 entries, 0 to 110526\n",
      "Data columns (total 14 columns):\n",
      " #   Column          Non-Null Count   Dtype  \n",
      "---  ------          --------------   -----  \n",
      " 0   PatientId       110527 non-null  float64\n",
      " 1   AppointmentID   110527 non-null  int64  \n",
      " 2   Gender          110527 non-null  object \n",
      " 3   ScheduledDay    110527 non-null  object \n",
      " 4   AppointmentDay  110527 non-null  object \n",
      " 5   Age             110527 non-null  int64  \n",
      " 6   Neighbourhood   110527 non-null  object \n",
      " 7   Scholarship     110527 non-null  int64  \n",
      " 8   Hipertension    110527 non-null  int64  \n",
      " 9   Diabetes        110527 non-null  int64  \n",
      " 10  Alcoholism      110527 non-null  int64  \n",
      " 11  Handcap         110527 non-null  int64  \n",
      " 12  SMS_received    110527 non-null  int64  \n",
      " 13  No-show         110527 non-null  object \n",
      "dtypes: float64(1), int64(8), object(5)\n",
      "memory usage: 9.7+ MB\n"
     ]
    }
   ],
   "source": [
    "df_app.info()"
   ]
  },
  {
   "cell_type": "markdown",
   "metadata": {},
   "source": [
    "***Empty cell/missing data in any of the columns? Type of data each column holds?***\n",
    "\n",
    ">- *See that? 110527 non-null (non-empty) cells in each column. That figure also equals the number of our rows from earlier, right? No missing data in any of the cells then.*\n",
    ">- *Instances of inconsistent data types - PatientId, appointmentID (both should be strings). ScheduledDay and AppointmentDay too ought to be converted to readable date-time format.*\n",
    ">\n",
    "*What else is there?*"
   ]
  },
  {
   "cell_type": "code",
   "execution_count": 6,
   "metadata": {},
   "outputs": [
    {
     "data": {
      "text/plain": [
       "0"
      ]
     },
     "execution_count": 6,
     "metadata": {},
     "output_type": "execute_result"
    }
   ],
   "source": [
    "df_app.duplicated().sum() # Any instances of duplicate data?"
   ]
  },
  {
   "cell_type": "markdown",
   "metadata": {},
   "source": [
    ">- None! No duplicate data!\n",
    ">\n",
    "*Perhaps, time for some visualization...*"
   ]
  },
  {
   "cell_type": "code",
   "execution_count": 7,
   "metadata": {
    "scrolled": false
   },
   "outputs": [
    {
     "data": {
      "image/png": "[encoded data removed]",
      "text/plain": [
       "<Figure size 1440x1440 with 9 Axes>"
      ]
     },
     "metadata": {
      "needs_background": "light"
     },
     "output_type": "display_data"
    }
   ],
   "source": [
    "df_app.hist(figsize=(20,20)) # histograms..\n",
    "plt.suptitle('Histograms Visualizing Data Categories And Features', fontsize=25); # title plus readable font size."
   ]
  },
  {
   "cell_type": "markdown",
   "metadata": {},
   "source": [
    "***Plot various Histograms based on generated dataframe. Size - 20 by 20***\n",
    ">- People between the ages of 0 and 20 booked the most appointments.\n",
    ">- Most of the appointments booked weren't by people on scholarship.\n",
    ">- Majority of the patients were not hipertensive.\n",
    ">- There is a very low incidence of Diabetes, Alcoholism and Handcap amongst them.\n",
    ">- Most of the people did not receive sms.\n",
    ">- All bar charts, except appointment ID, are heavily skewed to the right.\n",
    ">\n",
    "*As at this point, visualizations do not offer much reliable details because the data isn't yet clean. So, lets get down to that...*"
   ]
  },
  {
   "cell_type": "markdown",
   "metadata": {},
   "source": [
    "### Data Cleaning Stage\n",
    ">\n",
    ">\n",
    "> **Basics**: Consistency of data is key in Analytics. Inconsistent, incorrect or unavailable data could cost dreams. Here, we bring to fore each of the issues identified in the wrangling stage. We then fix each one after the other.\n",
    ">\n",
    ">\n",
    ">\n",
    "> **What to expect** \n",
    ">   \n",
    ">    We will fix issues with:\n",
    ">\n",
    ">- Typos in column headings - \"Hipertension\" and \"Handcap.\"\n",
    ">- Super confusing \"No-show\" column. Not in 1s and zeros like the rest of the columns beside it.\n",
    ">- Instances of inconsistent data types. Patient Ids look super weird and the dates look even weirder.\n",
    ">- Negative (-1) showing up in the age column.\n",
    ">\n",
    ">\n",
    ">   *shall we do some cleaning?*"
   ]
  },
  {
   "cell_type": "markdown",
   "metadata": {},
   "source": [
    "#### Correcting typos in column headings and renaming"
   ]
  },
  {
   "cell_type": "code",
   "execution_count": 8,
   "metadata": {},
   "outputs": [],
   "source": [
    "# Correcting typos... renaming... \n",
    "df_app = df_app.rename(columns={\"Hipertension\":\"Hypertension\", \"Handcap\":\"Handicap\", \"No-show\":\"App-kept\"})"
   ]
  },
  {
   "cell_type": "markdown",
   "metadata": {},
   "source": [
    "*Correcting the typos in column headings and renaming the \"No-show\" as \"App-kept\" to indicate whether or not Appointment was kept.*"
   ]
  },
  {
   "cell_type": "markdown",
   "metadata": {},
   "source": [
    "#### Replacing \"Yes\" with 0 and \"No\" with 1 in App-kept column"
   ]
  },
  {
   "cell_type": "code",
   "execution_count": 9,
   "metadata": {},
   "outputs": [],
   "source": [
    "df_app.loc[df_app[\"App-kept\"] == \"Yes\", \"App-kept\"] = 0 # Yes is 0\n",
    "df_app.loc[df_app[\"App-kept\"] == \"No\", \"App-kept\"] = 1 # No is 1"
   ]
  },
  {
   "cell_type": "markdown",
   "metadata": {},
   "source": [
    "*Consistency of data is of extreme importance in Analytics. So, we replace \"Yes\" with 0 and \"No\" with 1 to keep the values of the column consistent with the rest beside it.*"
   ]
  },
  {
   "cell_type": "code",
   "execution_count": 10,
   "metadata": {
    "scrolled": false
   },
   "outputs": [
    {
     "data": {
      "text/plain": [
       "0    1\n",
       "1    1\n",
       "2    1\n",
       "3    1\n",
       "4    1\n",
       "5    1\n",
       "6    0\n",
       "7    0\n",
       "8    1\n",
       "9    1\n",
       "Name: App-kept, dtype: object"
      ]
     },
     "execution_count": 10,
     "metadata": {},
     "output_type": "execute_result"
    }
   ],
   "source": [
    "df_app[\"App-kept\"].head(10) #Quick check.."
   ]
  },
  {
   "cell_type": "markdown",
   "metadata": {},
   "source": [
    ">   *Checking first 10 rows of the renamed column (App-kept) to be sure it worked.*\n",
    ">\n",
    "*But the datatype is suspect so...*"
   ]
  },
  {
   "cell_type": "markdown",
   "metadata": {},
   "source": [
    "#### Fixing data types"
   ]
  },
  {
   "cell_type": "code",
   "execution_count": 11,
   "metadata": {},
   "outputs": [],
   "source": [
    "df_app[\"App-kept\"] = df_app[\"App-kept\"].apply(pd.to_numeric)"
   ]
  },
  {
   "cell_type": "markdown",
   "metadata": {},
   "source": [
    "*Convert datatype to numeric*"
   ]
  },
  {
   "cell_type": "code",
   "execution_count": 12,
   "metadata": {},
   "outputs": [
    {
     "data": {
      "text/plain": [
       "dtype('int64')"
      ]
     },
     "execution_count": 12,
     "metadata": {},
     "output_type": "execute_result"
    }
   ],
   "source": [
    "df_app[\"App-kept\"].dtype # Check datatype"
   ]
  },
  {
   "cell_type": "markdown",
   "metadata": {},
   "source": [
    "*Checking datatype of the column to see if it worked.*"
   ]
  },
  {
   "cell_type": "code",
   "execution_count": 13,
   "metadata": {},
   "outputs": [],
   "source": [
    "df_app['PatientId'] = df_app['PatientId'].astype(str) # to strings\n",
    "df_app['AppointmentID'] = df_app['AppointmentID'].astype(str) # to strings"
   ]
  },
  {
   "cell_type": "markdown",
   "metadata": {},
   "source": [
    "*Converting PatientId and AppointmentID datatypes to string to maintain consistency.*"
   ]
  },
  {
   "cell_type": "code",
   "execution_count": 14,
   "metadata": {},
   "outputs": [],
   "source": [
    "df_app[\"ScheduledDay\"] = pd.to_datetime(df_app[\"ScheduledDay\"]) # to date-time\n",
    "df_app[\"AppointmentDay\"] = pd.to_datetime(df_app[\"AppointmentDay\"]) # to date-time"
   ]
  },
  {
   "cell_type": "markdown",
   "metadata": {},
   "source": [
    "*Fixing super weird dates... getting rid of the \"Tees\" and \"Zees.\" Converting ScheduledDay datatype to Date time format and AppointmentDay to same (Date time)....*"
   ]
  },
  {
   "cell_type": "code",
   "execution_count": 15,
   "metadata": {
    "scrolled": true
   },
   "outputs": [
    {
     "data": {
      "text/plain": [
       "PatientId                      object\n",
       "AppointmentID                  object\n",
       "Gender                         object\n",
       "ScheduledDay      datetime64[ns, UTC]\n",
       "AppointmentDay    datetime64[ns, UTC]\n",
       "Age                             int64\n",
       "Neighbourhood                  object\n",
       "Scholarship                     int64\n",
       "Hypertension                    int64\n",
       "Diabetes                        int64\n",
       "Alcoholism                      int64\n",
       "Handicap                        int64\n",
       "SMS_received                    int64\n",
       "App-kept                        int64\n",
       "dtype: object"
      ]
     },
     "execution_count": 15,
     "metadata": {},
     "output_type": "execute_result"
    }
   ],
   "source": [
    "df_app.dtypes"
   ]
  },
  {
   "cell_type": "markdown",
   "metadata": {},
   "source": [
    ">  *Yes! all datatypes in order...*"
   ]
  },
  {
   "cell_type": "markdown",
   "metadata": {},
   "source": [
    " *Lets fix that negative age issue now...*"
   ]
  },
  {
   "cell_type": "markdown",
   "metadata": {},
   "source": [
    "#### Handling negative values"
   ]
  },
  {
   "cell_type": "code",
   "execution_count": 16,
   "metadata": {
    "scrolled": true
   },
   "outputs": [
    {
     "data": {
      "text/plain": [
       "1"
      ]
     },
     "execution_count": 16,
     "metadata": {},
     "output_type": "execute_result"
    }
   ],
   "source": [
    "(df_app['Age'].values < 0).sum() # First, we check whether or not there are more negative age values besides the -1."
   ]
  },
  {
   "cell_type": "markdown",
   "metadata": {},
   "source": [
    "*Oh... its just that 1 negative value (-1)... interesting...*"
   ]
  },
  {
   "cell_type": "code",
   "execution_count": 17,
   "metadata": {
    "scrolled": true
   },
   "outputs": [
    {
     "data": {
      "text/html": [
       "<div>\n",
       "<style scoped>\n",
       "    .dataframe tbody tr th:only-of-type {\n",
       "        vertical-align: middle;\n",
       "    }\n",
       "\n",
       "    .dataframe tbody tr th {\n",
       "        vertical-align: top;\n",
       "    }\n",
       "\n",
       "    .dataframe thead th {\n",
       "        text-align: right;\n",
       "    }\n",
       "</style>\n",
       "<table border=\"1\" class=\"dataframe\">\n",
       "  <thead>\n",
       "    <tr style=\"text-align: right;\">\n",
       "      <th></th>\n",
       "      <th>PatientId</th>\n",
       "      <th>AppointmentID</th>\n",
       "      <th>Gender</th>\n",
       "      <th>ScheduledDay</th>\n",
       "      <th>AppointmentDay</th>\n",
       "      <th>Age</th>\n",
       "      <th>Neighbourhood</th>\n",
       "      <th>Scholarship</th>\n",
       "      <th>Hypertension</th>\n",
       "      <th>Diabetes</th>\n",
       "      <th>Alcoholism</th>\n",
       "      <th>Handicap</th>\n",
       "      <th>SMS_received</th>\n",
       "      <th>App-kept</th>\n",
       "    </tr>\n",
       "  </thead>\n",
       "  <tbody>\n",
       "  </tbody>\n",
       "</table>\n",
       "</div>"
      ],
      "text/plain": [
       "Empty DataFrame\n",
       "Columns: [PatientId, AppointmentID, Gender, ScheduledDay, AppointmentDay, Age, Neighbourhood, Scholarship, Hypertension, Diabetes, Alcoholism, Handicap, SMS_received, App-kept]\n",
       "Index: []"
      ]
     },
     "execution_count": 17,
     "metadata": {},
     "output_type": "execute_result"
    }
   ],
   "source": [
    "df_app.query('Age == \"-1\"') # Lets find the row carrying the -1 age value."
   ]
  },
  {
   "cell_type": "markdown",
   "metadata": {},
   "source": [
    "*Row number 99832... every other thing around here, except for age, seems to be in order. OK. We begin fixing it.*"
   ]
  },
  {
   "cell_type": "code",
   "execution_count": 18,
   "metadata": {
    "scrolled": true
   },
   "outputs": [],
   "source": [
    "df_app['Age'] = df_app['Age'].apply(lambda x : x if x > 0 else None) #First, we fill the cell with a nan value..."
   ]
  },
  {
   "cell_type": "markdown",
   "metadata": {},
   "source": [
    "*Yes... we aren't dropping the entire row because its got a lot of int data types. What we'll eventually do is, fill the cell with the mean age of the distribution. But first, we fill with none value. Having done that, we query for -1 again.*"
   ]
  },
  {
   "cell_type": "code",
   "execution_count": 19,
   "metadata": {
    "scrolled": false
   },
   "outputs": [
    {
     "data": {
      "text/html": [
       "<div>\n",
       "<style scoped>\n",
       "    .dataframe tbody tr th:only-of-type {\n",
       "        vertical-align: middle;\n",
       "    }\n",
       "\n",
       "    .dataframe tbody tr th {\n",
       "        vertical-align: top;\n",
       "    }\n",
       "\n",
       "    .dataframe thead th {\n",
       "        text-align: right;\n",
       "    }\n",
       "</style>\n",
       "<table border=\"1\" class=\"dataframe\">\n",
       "  <thead>\n",
       "    <tr style=\"text-align: right;\">\n",
       "      <th></th>\n",
       "      <th>PatientId</th>\n",
       "      <th>AppointmentID</th>\n",
       "      <th>Gender</th>\n",
       "      <th>ScheduledDay</th>\n",
       "      <th>AppointmentDay</th>\n",
       "      <th>Age</th>\n",
       "      <th>Neighbourhood</th>\n",
       "      <th>Scholarship</th>\n",
       "      <th>Hypertension</th>\n",
       "      <th>Diabetes</th>\n",
       "      <th>Alcoholism</th>\n",
       "      <th>Handicap</th>\n",
       "      <th>SMS_received</th>\n",
       "      <th>App-kept</th>\n",
       "    </tr>\n",
       "  </thead>\n",
       "  <tbody>\n",
       "  </tbody>\n",
       "</table>\n",
       "</div>"
      ],
      "text/plain": [
       "Empty DataFrame\n",
       "Columns: [PatientId, AppointmentID, Gender, ScheduledDay, AppointmentDay, Age, Neighbourhood, Scholarship, Hypertension, Diabetes, Alcoholism, Handicap, SMS_received, App-kept]\n",
       "Index: []"
      ]
     },
     "execution_count": 19,
     "metadata": {},
     "output_type": "execute_result"
    }
   ],
   "source": [
    "df_app.query('Age == \"-1\"')"
   ]
  },
  {
   "cell_type": "markdown",
   "metadata": {},
   "source": [
    "*Awesome... -1 is gone, so, it worked. We move to finding the mean age...*"
   ]
  },
  {
   "cell_type": "code",
   "execution_count": 20,
   "metadata": {},
   "outputs": [
    {
     "data": {
      "text/plain": [
       "38"
      ]
     },
     "execution_count": 20,
     "metadata": {},
     "output_type": "execute_result"
    }
   ],
   "source": [
    "mean_age = df_app['Age'].mean().astype(int) # Find mean age and convert to int datatype.\n",
    "mean_age"
   ]
  },
  {
   "cell_type": "code",
   "execution_count": 21,
   "metadata": {},
   "outputs": [],
   "source": [
    "df_app['Age'].fillna(mean_age, inplace=True) # Fill none cell with mean age."
   ]
  },
  {
   "cell_type": "markdown",
   "metadata": {},
   "source": [
    "*fillna function basically fills cells housing none values. In this case, we're filling with our calculated mean (38).*"
   ]
  },
  {
   "cell_type": "code",
   "execution_count": 22,
   "metadata": {
    "scrolled": false
   },
   "outputs": [
    {
     "data": {
      "text/html": [
       "<div>\n",
       "<style scoped>\n",
       "    .dataframe tbody tr th:only-of-type {\n",
       "        vertical-align: middle;\n",
       "    }\n",
       "\n",
       "    .dataframe tbody tr th {\n",
       "        vertical-align: top;\n",
       "    }\n",
       "\n",
       "    .dataframe thead th {\n",
       "        text-align: right;\n",
       "    }\n",
       "</style>\n",
       "<table border=\"1\" class=\"dataframe\">\n",
       "  <thead>\n",
       "    <tr style=\"text-align: right;\">\n",
       "      <th></th>\n",
       "      <th>PatientId</th>\n",
       "      <th>AppointmentID</th>\n",
       "      <th>Gender</th>\n",
       "      <th>ScheduledDay</th>\n",
       "      <th>AppointmentDay</th>\n",
       "      <th>Age</th>\n",
       "      <th>Neighbourhood</th>\n",
       "      <th>Scholarship</th>\n",
       "      <th>Hypertension</th>\n",
       "      <th>Diabetes</th>\n",
       "      <th>Alcoholism</th>\n",
       "      <th>Handicap</th>\n",
       "      <th>SMS_received</th>\n",
       "      <th>App-kept</th>\n",
       "    </tr>\n",
       "  </thead>\n",
       "  <tbody>\n",
       "    <tr>\n",
       "      <th>99831</th>\n",
       "      <td>98251782773783.0</td>\n",
       "      <td>5774337</td>\n",
       "      <td>M</td>\n",
       "      <td>2016-06-06 08:08:00+00:00</td>\n",
       "      <td>2016-06-06 00:00:00+00:00</td>\n",
       "      <td>7.0</td>\n",
       "      <td>CRUZAMENTO</td>\n",
       "      <td>0</td>\n",
       "      <td>0</td>\n",
       "      <td>0</td>\n",
       "      <td>0</td>\n",
       "      <td>0</td>\n",
       "      <td>0</td>\n",
       "      <td>1</td>\n",
       "    </tr>\n",
       "    <tr>\n",
       "      <th>99832</th>\n",
       "      <td>465943158731293.0</td>\n",
       "      <td>5775010</td>\n",
       "      <td>F</td>\n",
       "      <td>2016-06-06 08:58:13+00:00</td>\n",
       "      <td>2016-06-06 00:00:00+00:00</td>\n",
       "      <td>38.0</td>\n",
       "      <td>ROMÃO</td>\n",
       "      <td>0</td>\n",
       "      <td>0</td>\n",
       "      <td>0</td>\n",
       "      <td>0</td>\n",
       "      <td>0</td>\n",
       "      <td>0</td>\n",
       "      <td>1</td>\n",
       "    </tr>\n",
       "  </tbody>\n",
       "</table>\n",
       "</div>"
      ],
      "text/plain": [
       "               PatientId AppointmentID Gender              ScheduledDay  \\\n",
       "99831   98251782773783.0       5774337      M 2016-06-06 08:08:00+00:00   \n",
       "99832  465943158731293.0       5775010      F 2016-06-06 08:58:13+00:00   \n",
       "\n",
       "                 AppointmentDay   Age Neighbourhood  Scholarship  \\\n",
       "99831 2016-06-06 00:00:00+00:00   7.0    CRUZAMENTO            0   \n",
       "99832 2016-06-06 00:00:00+00:00  38.0         ROMÃO            0   \n",
       "\n",
       "       Hypertension  Diabetes  Alcoholism  Handicap  SMS_received  App-kept  \n",
       "99831             0         0           0         0             0         1  \n",
       "99832             0         0           0         0             0         1  "
      ]
     },
     "execution_count": 22,
     "metadata": {},
     "output_type": "execute_result"
    }
   ],
   "source": [
    "df_app.iloc[[99831, 99832]] # Calling up rows 99831 and 99832 to see if all went well. "
   ]
  },
  {
   "cell_type": "markdown",
   "metadata": {},
   "source": [
    "*Ok... it worked... but the Age column now appears as a string, instead of int. Lets fix that.*"
   ]
  },
  {
   "cell_type": "markdown",
   "metadata": {},
   "source": [
    "#### Other cleaning issues arising"
   ]
  },
  {
   "cell_type": "code",
   "execution_count": 23,
   "metadata": {
    "scrolled": false
   },
   "outputs": [
    {
     "data": {
      "text/plain": [
       "0         62\n",
       "1         56\n",
       "2         62\n",
       "3          8\n",
       "4         56\n",
       "          ..\n",
       "110522    56\n",
       "110523    51\n",
       "110524    21\n",
       "110525    38\n",
       "110526    54\n",
       "Name: Age, Length: 110527, dtype: int32"
      ]
     },
     "execution_count": 23,
     "metadata": {},
     "output_type": "execute_result"
    }
   ],
   "source": [
    "df_app['Age'].astype(int) # Convert Age column to int datatype."
   ]
  },
  {
   "cell_type": "markdown",
   "metadata": {},
   "source": [
    "*Awesome! So...*\n",
    "\n",
    ">***Summary Of Cleaning Stage***\n",
    ">\n",
    ">- *Corrected typos in column headings and renamed \"No-show\" as \"App-kept\" to indicate whether or not Appointment was kept.*\n",
    ">\n",
    ">- *Changed the \"Yes(es)\" in App-kept to 0 and the \"No(s)\" to 1, to maintain consistency with other variables close to it.*\n",
    ">\n",
    ">- *Fixed issues with data types. Converted App-kept to numeric, PatientId & AppointmentID to strings, ScheduledDay and AppointmentDay to date-time.*\n",
    ">\n",
    ">- *Handled Negative values - the -1 in Age. First, filled the cell with nan. Then, filled with mean age of the distribution.*\n",
    ">\n",
    ">- *Other cleaning issue(s) - Converted Age column back to int as it came out as strings after previous operation.*\n",
    ">\n",
    "*That done... lets go explore!*"
   ]
  },
  {
   "cell_type": "markdown",
   "metadata": {},
   "source": [
    "<a id='eda'></a>\n",
    "## Exploratory Data Analysis\n",
    "\n",
    "> **Basics**: Data always yearn to tell stories, but only those who diligently search are rewarded with these tales. We began with wrangling and cleaning, this is the part our data communicates with us. And we unravel these communication by posing various questions related to our variables. As we do this, we are drawn into computing statistics, taking keen look at correlations between variables and painting vivid pictures in form of visualizations. This is exploratory data analysis.\n",
    ">\n",
    "> Quickly to the first question...\n",
    "\n",
    "### 1. What percentage of the people kept their Doctor's appointment?"
   ]
  },
  {
   "cell_type": "code",
   "execution_count": 24,
   "metadata": {
    "scrolled": false
   },
   "outputs": [
    {
     "data": {
      "text/plain": [
       "1    88208\n",
       "0    22319\n",
       "Name: App-kept, dtype: int64"
      ]
     },
     "execution_count": 24,
     "metadata": {},
     "output_type": "execute_result"
    }
   ],
   "source": [
    "df_app['App-kept'].value_counts() # Get value counts of \"App-kept\""
   ]
  },
  {
   "cell_type": "markdown",
   "metadata": {},
   "source": [
    "*To answer this, we first need a value count of kept and unkept appointments. Afterwards, we call a function to find the percentages.*"
   ]
  },
  {
   "cell_type": "code",
   "execution_count": 25,
   "metadata": {
    "scrolled": false
   },
   "outputs": [
    {
     "data": {
      "text/plain": [
       "110527"
      ]
     },
     "execution_count": 25,
     "metadata": {},
     "output_type": "execute_result"
    }
   ],
   "source": [
    "df_app['App-kept'].value_counts().sum() # Get sum of value counts to be sure we're on track. "
   ]
  },
  {
   "cell_type": "markdown",
   "metadata": {},
   "source": [
    "*Interesting... out of 110527 appointments, 88208 were kept, 22319 weren't. Lets go find the percentages.*"
   ]
  },
  {
   "cell_type": "code",
   "execution_count": 26,
   "metadata": {
    "scrolled": false
   },
   "outputs": [
    {
     "data": {
      "text/plain": [
       "1    79.8%\n",
       "0    20.2%\n",
       "Name: App-kept, dtype: object"
      ]
     },
     "execution_count": 26,
     "metadata": {},
     "output_type": "execute_result"
    }
   ],
   "source": [
    "df_app['App-kept'].value_counts(normalize=True).mul(100).round(1).astype(str) + '%' # Percentage value counts."
   ]
  },
  {
   "cell_type": "markdown",
   "metadata": {},
   "source": [
    "*Get the value counts in rates, multiply by 100, round up to 1 place, convert to str datatype and add percentage symbols to them.*\n",
    "                                                                                    "
   ]
  },
  {
   "cell_type": "markdown",
   "metadata": {},
   "source": [
    ">\n",
    ">- *79.8 percent of people kept their appointments.*\n",
    ">- *20.2 percent didn't.*"
   ]
  },
  {
   "cell_type": "markdown",
   "metadata": {},
   "source": [
    "### 2. Does a longer or shorter wait time predict whether or not a patient would keep his/her Doctor's appointment?"
   ]
  },
  {
   "cell_type": "code",
   "execution_count": 27,
   "metadata": {
    "scrolled": true
   },
   "outputs": [
    {
     "data": {
      "text/html": [
       "<div>\n",
       "<style scoped>\n",
       "    .dataframe tbody tr th:only-of-type {\n",
       "        vertical-align: middle;\n",
       "    }\n",
       "\n",
       "    .dataframe tbody tr th {\n",
       "        vertical-align: top;\n",
       "    }\n",
       "\n",
       "    .dataframe thead th {\n",
       "        text-align: right;\n",
       "    }\n",
       "</style>\n",
       "<table border=\"1\" class=\"dataframe\">\n",
       "  <thead>\n",
       "    <tr style=\"text-align: right;\">\n",
       "      <th></th>\n",
       "      <th>ScheduledDay</th>\n",
       "      <th>AppointmentDay</th>\n",
       "      <th>App-kept</th>\n",
       "    </tr>\n",
       "  </thead>\n",
       "  <tbody>\n",
       "    <tr>\n",
       "      <th>0</th>\n",
       "      <td>2016-04-29 18:38:08+00:00</td>\n",
       "      <td>2016-04-29 00:00:00+00:00</td>\n",
       "      <td>1</td>\n",
       "    </tr>\n",
       "    <tr>\n",
       "      <th>1</th>\n",
       "      <td>2016-04-29 16:08:27+00:00</td>\n",
       "      <td>2016-04-29 00:00:00+00:00</td>\n",
       "      <td>1</td>\n",
       "    </tr>\n",
       "    <tr>\n",
       "      <th>2</th>\n",
       "      <td>2016-04-29 16:19:04+00:00</td>\n",
       "      <td>2016-04-29 00:00:00+00:00</td>\n",
       "      <td>1</td>\n",
       "    </tr>\n",
       "    <tr>\n",
       "      <th>3</th>\n",
       "      <td>2016-04-29 17:29:31+00:00</td>\n",
       "      <td>2016-04-29 00:00:00+00:00</td>\n",
       "      <td>1</td>\n",
       "    </tr>\n",
       "    <tr>\n",
       "      <th>4</th>\n",
       "      <td>2016-04-29 16:07:23+00:00</td>\n",
       "      <td>2016-04-29 00:00:00+00:00</td>\n",
       "      <td>1</td>\n",
       "    </tr>\n",
       "  </tbody>\n",
       "</table>\n",
       "</div>"
      ],
      "text/plain": [
       "               ScheduledDay            AppointmentDay  App-kept\n",
       "0 2016-04-29 18:38:08+00:00 2016-04-29 00:00:00+00:00         1\n",
       "1 2016-04-29 16:08:27+00:00 2016-04-29 00:00:00+00:00         1\n",
       "2 2016-04-29 16:19:04+00:00 2016-04-29 00:00:00+00:00         1\n",
       "3 2016-04-29 17:29:31+00:00 2016-04-29 00:00:00+00:00         1\n",
       "4 2016-04-29 16:07:23+00:00 2016-04-29 00:00:00+00:00         1"
      ]
     },
     "execution_count": 27,
     "metadata": {},
     "output_type": "execute_result"
    }
   ],
   "source": [
    "# Subsetting... calling up needed columns. \n",
    "df_app[[\"ScheduledDay\",\"AppointmentDay\",\"App-kept\"]].head()"
   ]
  },
  {
   "cell_type": "markdown",
   "metadata": {},
   "source": [
    "*ScheduledDay and AppointmentDay are the only \"time columns\" we've got. We compare them against \"App-kept\". But it looks like we need to get a \"Wait_time\" column. The idea is to compare average wait times between kept and unkept appointments. So...*"
   ]
  },
  {
   "cell_type": "code",
   "execution_count": 28,
   "metadata": {
    "scrolled": false
   },
   "outputs": [],
   "source": [
    "df_app['Wait_time'] = df_app['AppointmentDay'].dt.day - df_app['ScheduledDay'].dt.day "
   ]
  },
  {
   "cell_type": "markdown",
   "metadata": {},
   "source": [
    "*Create \"Wait_time\" column by finding difference between AppointmentDay and ScheduledDay columns and converting to strictly \"days format\".*"
   ]
  },
  {
   "cell_type": "code",
   "execution_count": 29,
   "metadata": {
    "scrolled": true
   },
   "outputs": [
    {
     "data": {
      "text/plain": [
       "0    0\n",
       "1    0\n",
       "2    0\n",
       "3    0\n",
       "4    0\n",
       "Name: Wait_time, dtype: int64"
      ]
     },
     "execution_count": 29,
     "metadata": {},
     "output_type": "execute_result"
    }
   ],
   "source": [
    "df_app['Wait_time'].head() # checking to see if it worked."
   ]
  },
  {
   "cell_type": "markdown",
   "metadata": {},
   "source": [
    "*Great! Now, lets see how our days appear*"
   ]
  },
  {
   "cell_type": "code",
   "execution_count": 30,
   "metadata": {
    "scrolled": true
   },
   "outputs": [
    {
     "data": {
      "text/plain": [
       "array([  0,   2,   3,   1,   4,   9,  -2,  10,  23,  11,  18,  17,  14,\n",
       "        28,  24,  21,  15,  16,  22,  12,  -1,  25,   8,   6,   7,  13,\n",
       "        19,   5,  27,  26,  20, -28,  -8, -24, -27, -18, -17, -12, -14,\n",
       "       -25, -26, -16,  -6,  -4, -23,  -9, -20, -21,  -3, -10, -11,  -5,\n",
       "       -19, -15, -13,  -7, -22, -29,  29,  30, -30], dtype=int64)"
      ]
     },
     "execution_count": 30,
     "metadata": {},
     "output_type": "execute_result"
    }
   ],
   "source": [
    "df_app['Wait_time'].unique() # Call up every unique value under \"Wait_time\" column."
   ]
  },
  {
   "cell_type": "markdown",
   "metadata": {},
   "source": [
    "*Okay... there's a problem. Some values carry negative signs. Probably due to how the data was recorded, in a count down style. Can't possibly drop all those values though. So, what do we do?*"
   ]
  },
  {
   "cell_type": "code",
   "execution_count": 31,
   "metadata": {
    "scrolled": false
   },
   "outputs": [
    {
     "name": "stderr",
     "output_type": "stream",
     "text": [
      "/data/user/0/ru.iiec.pydroid3/cache/ipykernel_14135/1387207215.py:1: SettingWithCopyWarning: \n",
      "A value is trying to be set on a copy of a slice from a DataFrame\n",
      "\n",
      "See the caveats in the documentation: https://pandas.pydata.org/pandas-docs/stable/user_guide/indexing.html#returning-a-view-versus-a-copy\n",
      "  df_app['Wait_time'][df_app['Wait_time'] < 0] = -df_app['Wait_time']\n"
     ]
    }
   ],
   "source": [
    "df_app['Wait_time'][df_app['Wait_time'] < 0] = -df_app['Wait_time']"
   ]
  },
  {
   "cell_type": "markdown",
   "metadata": {},
   "source": [
    "*Make a subset of Wait_times that are less than zero and multiply each value of the subset by -1 to cancel out the negatives.*"
   ]
  },
  {
   "cell_type": "code",
   "execution_count": 32,
   "metadata": {
    "scrolled": true
   },
   "outputs": [
    {
     "data": {
      "text/plain": [
       "array([ 0,  2,  3,  1,  4,  9, 10, 23, 11, 18, 17, 14, 28, 24, 21, 15, 16,\n",
       "       22, 12, 25,  8,  6,  7, 13, 19,  5, 27, 26, 20, 29, 30],\n",
       "      dtype=int64)"
      ]
     },
     "execution_count": 32,
     "metadata": {},
     "output_type": "execute_result"
    }
   ],
   "source": [
    "df_app['Wait_time'].unique()"
   ]
  },
  {
   "cell_type": "markdown",
   "metadata": {},
   "source": [
    "*Lets see if it worked...run the unique \"Wait_time\" identifier code again...Amazing!*"
   ]
  },
  {
   "cell_type": "code",
   "execution_count": 33,
   "metadata": {
    "scrolled": false
   },
   "outputs": [
    {
     "data": {
      "text/plain": [
       "App-kept\n",
       "0    9.391147\n",
       "1    5.809768\n",
       "Name: Wait_time, dtype: float64"
      ]
     },
     "execution_count": 33,
     "metadata": {},
     "output_type": "execute_result"
    }
   ],
   "source": [
    "df_w = df_app.groupby('App-kept').mean()['Wait_time'] \n",
    "df_w"
   ]
  },
  {
   "cell_type": "markdown",
   "metadata": {},
   "source": [
    "*Now, lets group by average wait times and appointment kept.*"
   ]
  },
  {
   "cell_type": "code",
   "execution_count": 34,
   "metadata": {
    "scrolled": true
   },
   "outputs": [
    {
     "data": {
      "image/png": "[encoded data removed]",
      "text/plain": [
       "<Figure size 720x576 with 1 Axes>"
      ]
     },
     "metadata": {
      "needs_background": "light"
     },
     "output_type": "display_data"
    }
   ],
   "source": [
    "fig, ax = plt.subplots(figsize=(10,8))\n",
    "ax.hist(df_app['App-kept'], alpha=0.5, label='App-kept')\n",
    "ax.hist(df_app['Wait_time'], alpha=0.5, label='Wait_time')\n",
    "ax.set_title('Comparing Wait Times To Kept/Unkept Appointments')\n",
    "ax.set_xlabel('App-kept')\n",
    "ax.set_ylabel('Wait_time')\n",
    "ax.legend(loc='upper right')\n",
    "plt.show();"
   ]
  },
  {
   "cell_type": "code",
   "execution_count": 35,
   "metadata": {
    "scrolled": true
   },
   "outputs": [
    {
     "data": {
      "text/plain": [
       "<matplotlib.legend.Legend at 0xa0b75fb8>"
      ]
     },
     "execution_count": 35,
     "metadata": {},
     "output_type": "execute_result"
    },
    {
     "data": {
      "image/png": "[encoded data removed]",
      "text/plain": [
       "<Figure size 432x288 with 1 Axes>"
      ]
     },
     "metadata": {
      "needs_background": "light"
     },
     "output_type": "display_data"
    }
   ],
   "source": [
    "hint = [\"Unkept App\", \"Kept App\"]\n",
    "plt.xlabel('App-kept')\n",
    "plt.ylabel('Mean Wait_time')\n",
    "plt.title(\"Average Wait_time Against App-kept\")\n",
    "df_w.plot.bar(color=('orange', 'purple'))\n",
    "plt.legend(hint, loc='best')"
   ]
  },
  {
   "cell_type": "markdown",
   "metadata": {},
   "source": [
    ">- *People that waited an average of 9 days were more likely to not keep their appointments.*\n",
    ">\n",
    ">- *People that had to wait an average of 5-6 days were more likely to keep their appointments.*"
   ]
  },
  {
   "cell_type": "markdown",
   "metadata": {},
   "source": [
    "### 3. Did patients that suffer more than 1 medical condition rate higher on keeping appointments than those that suffered less?"
   ]
  },
  {
   "cell_type": "code",
   "execution_count": 36,
   "metadata": {},
   "outputs": [],
   "source": [
    "df_app['Conditions_total'] = df_app['Hypertension'] + df_app['Diabetes'] + df_app['Alcoholism'] + df_app['Handicap']"
   ]
  },
  {
   "cell_type": "markdown",
   "metadata": {},
   "source": [
    "*For this, we need another new column to house each row total of the four listed conditions...after this, we'll take value counts of each condition and compare against the App-kept column. So, lets call the new column, \"Conditions_total\", it is a cummulative of all four columns listing the conditions...*"
   ]
  },
  {
   "cell_type": "code",
   "execution_count": 37,
   "metadata": {
    "scrolled": false
   },
   "outputs": [
    {
     "data": {
      "text/html": [
       "<div>\n",
       "<style scoped>\n",
       "    .dataframe tbody tr th:only-of-type {\n",
       "        vertical-align: middle;\n",
       "    }\n",
       "\n",
       "    .dataframe tbody tr th {\n",
       "        vertical-align: top;\n",
       "    }\n",
       "\n",
       "    .dataframe thead th {\n",
       "        text-align: right;\n",
       "    }\n",
       "</style>\n",
       "<table border=\"1\" class=\"dataframe\">\n",
       "  <thead>\n",
       "    <tr style=\"text-align: right;\">\n",
       "      <th></th>\n",
       "      <th>PatientId</th>\n",
       "      <th>AppointmentID</th>\n",
       "      <th>Gender</th>\n",
       "      <th>ScheduledDay</th>\n",
       "      <th>AppointmentDay</th>\n",
       "      <th>Age</th>\n",
       "      <th>Neighbourhood</th>\n",
       "      <th>Scholarship</th>\n",
       "      <th>Hypertension</th>\n",
       "      <th>Diabetes</th>\n",
       "      <th>Alcoholism</th>\n",
       "      <th>Handicap</th>\n",
       "      <th>SMS_received</th>\n",
       "      <th>App-kept</th>\n",
       "      <th>Wait_time</th>\n",
       "      <th>Conditions_total</th>\n",
       "    </tr>\n",
       "  </thead>\n",
       "  <tbody>\n",
       "  </tbody>\n",
       "</table>\n",
       "</div>"
      ],
      "text/plain": [
       "Empty DataFrame\n",
       "Columns: [PatientId, AppointmentID, Gender, ScheduledDay, AppointmentDay, Age, Neighbourhood, Scholarship, Hypertension, Diabetes, Alcoholism, Handicap, SMS_received, App-kept, Wait_time, Conditions_total]\n",
       "Index: []"
      ]
     },
     "execution_count": 37,
     "metadata": {},
     "output_type": "execute_result"
    }
   ],
   "source": [
    "df_app.iloc[[]] # Calling up only column headers."
   ]
  },
  {
   "cell_type": "markdown",
   "metadata": {},
   "source": [
    "*Is it created? We call up only the row carrying headers to confirm. We move on to value counts next...*"
   ]
  },
  {
   "cell_type": "code",
   "execution_count": 38,
   "metadata": {
    "scrolled": true
   },
   "outputs": [
    {
     "data": {
      "text/plain": [
       "0    84115\n",
       "1    18014\n",
       "2     7710\n",
       "3      624\n",
       "4       63\n",
       "5        1\n",
       "Name: Conditions_total, dtype: int64"
      ]
     },
     "execution_count": 38,
     "metadata": {},
     "output_type": "execute_result"
    }
   ],
   "source": [
    "df_app['Conditions_total'].value_counts() # Create a subset for Conditions_total and find its value counts."
   ]
  },
  {
   "cell_type": "markdown",
   "metadata": {},
   "source": [
    "*Ok... there's a problem. We got a total of 4 recorded conditions coded in 1s and 0s. Meaning, we can't have Conditions_total greater than 4. However, one of the \"Conditions_total\" above shows 5... what do we do?*"
   ]
  },
  {
   "cell_type": "code",
   "execution_count": 39,
   "metadata": {
    "scrolled": true
   },
   "outputs": [
    {
     "data": {
      "text/html": [
       "<div>\n",
       "<style scoped>\n",
       "    .dataframe tbody tr th:only-of-type {\n",
       "        vertical-align: middle;\n",
       "    }\n",
       "\n",
       "    .dataframe tbody tr th {\n",
       "        vertical-align: top;\n",
       "    }\n",
       "\n",
       "    .dataframe thead th {\n",
       "        text-align: right;\n",
       "    }\n",
       "</style>\n",
       "<table border=\"1\" class=\"dataframe\">\n",
       "  <thead>\n",
       "    <tr style=\"text-align: right;\">\n",
       "      <th></th>\n",
       "      <th>PatientId</th>\n",
       "      <th>AppointmentID</th>\n",
       "      <th>Gender</th>\n",
       "      <th>ScheduledDay</th>\n",
       "      <th>AppointmentDay</th>\n",
       "      <th>Age</th>\n",
       "      <th>Neighbourhood</th>\n",
       "      <th>Scholarship</th>\n",
       "      <th>Hypertension</th>\n",
       "      <th>Diabetes</th>\n",
       "      <th>Alcoholism</th>\n",
       "      <th>Handicap</th>\n",
       "      <th>SMS_received</th>\n",
       "      <th>App-kept</th>\n",
       "      <th>Wait_time</th>\n",
       "      <th>Conditions_total</th>\n",
       "    </tr>\n",
       "  </thead>\n",
       "  <tbody>\n",
       "  </tbody>\n",
       "</table>\n",
       "</div>"
      ],
      "text/plain": [
       "Empty DataFrame\n",
       "Columns: [PatientId, AppointmentID, Gender, ScheduledDay, AppointmentDay, Age, Neighbourhood, Scholarship, Hypertension, Diabetes, Alcoholism, Handicap, SMS_received, App-kept, Wait_time, Conditions_total]\n",
       "Index: []"
      ]
     },
     "execution_count": 39,
     "metadata": {},
     "output_type": "execute_result"
    }
   ],
   "source": [
    "df_app.query('Conditions_total == \"5\"') # First we find the errant cell by querying \"5\" under \"Conditions_total\"."
   ]
  },
  {
   "cell_type": "markdown",
   "metadata": {},
   "source": [
    "*Ah... there it is, Conditions_total (5). The \"Handicap\" column is set to 2, with each of Diabetes, Alcoholism and Hypertension set to 1 respectively. Reason, we got a total of 5. Perhaps, if we adjust the obviously errant cell (Handicap), the Conditions_total would automatically re-adjust itself? Lets try...*"
   ]
  },
  {
   "cell_type": "code",
   "execution_count": 40,
   "metadata": {},
   "outputs": [
    {
     "data": {
      "text/plain": [
       "0"
      ]
     },
     "execution_count": 40,
     "metadata": {},
     "output_type": "execute_result"
    }
   ],
   "source": [
    "mean_Handicap = df_app['Handicap'].mean().astype(int) # Find mean of Handicap values and convert to int datatype.\n",
    "mean_Handicap"
   ]
  },
  {
   "cell_type": "markdown",
   "metadata": {},
   "source": [
    "*We'll attempt to replace the the errant value with the mean of the \"Handicap\" column. The mean is 0, now we go on to replace 2 with 0.*"
   ]
  },
  {
   "cell_type": "code",
   "execution_count": 41,
   "metadata": {},
   "outputs": [],
   "source": [
    "df_app['Handicap'] = df_app['Handicap'].astype(str).str.replace(\"2\",\"0\").astype(int)"
   ]
  },
  {
   "cell_type": "markdown",
   "metadata": {},
   "source": [
    "*Convert Handicap column to str type data. Then, from the str types, replace \"2\" with 0 and convert column back to int. Hoping this works to not only replace the 2, but also to auto-readjust the Conditions_total back to an acceptable value.*"
   ]
  },
  {
   "cell_type": "code",
   "execution_count": 42,
   "metadata": {
    "scrolled": true
   },
   "outputs": [
    {
     "data": {
      "text/html": [
       "<div>\n",
       "<style scoped>\n",
       "    .dataframe tbody tr th:only-of-type {\n",
       "        vertical-align: middle;\n",
       "    }\n",
       "\n",
       "    .dataframe tbody tr th {\n",
       "        vertical-align: top;\n",
       "    }\n",
       "\n",
       "    .dataframe thead th {\n",
       "        text-align: right;\n",
       "    }\n",
       "</style>\n",
       "<table border=\"1\" class=\"dataframe\">\n",
       "  <thead>\n",
       "    <tr style=\"text-align: right;\">\n",
       "      <th></th>\n",
       "      <th>PatientId</th>\n",
       "      <th>AppointmentID</th>\n",
       "      <th>Gender</th>\n",
       "      <th>ScheduledDay</th>\n",
       "      <th>AppointmentDay</th>\n",
       "      <th>Age</th>\n",
       "      <th>Neighbourhood</th>\n",
       "      <th>Scholarship</th>\n",
       "      <th>Hypertension</th>\n",
       "      <th>Diabetes</th>\n",
       "      <th>Alcoholism</th>\n",
       "      <th>Handicap</th>\n",
       "      <th>SMS_received</th>\n",
       "      <th>App-kept</th>\n",
       "      <th>Wait_time</th>\n",
       "      <th>Conditions_total</th>\n",
       "    </tr>\n",
       "  </thead>\n",
       "  <tbody>\n",
       "    <tr>\n",
       "      <th>5424</th>\n",
       "      <td>1647279714116.0</td>\n",
       "      <td>5647342</td>\n",
       "      <td>M</td>\n",
       "      <td>2016-05-02 13:24:36+00:00</td>\n",
       "      <td>2016-05-04 00:00:00+00:00</td>\n",
       "      <td>65.0</td>\n",
       "      <td>SANTO ANDRÉ</td>\n",
       "      <td>0</td>\n",
       "      <td>1</td>\n",
       "      <td>1</td>\n",
       "      <td>1</td>\n",
       "      <td>0</td>\n",
       "      <td>0</td>\n",
       "      <td>0</td>\n",
       "      <td>2</td>\n",
       "      <td>5</td>\n",
       "    </tr>\n",
       "  </tbody>\n",
       "</table>\n",
       "</div>"
      ],
      "text/plain": [
       "            PatientId AppointmentID Gender              ScheduledDay  \\\n",
       "5424  1647279714116.0       5647342      M 2016-05-02 13:24:36+00:00   \n",
       "\n",
       "                AppointmentDay   Age Neighbourhood  Scholarship  Hypertension  \\\n",
       "5424 2016-05-04 00:00:00+00:00  65.0   SANTO ANDRÉ            0             1   \n",
       "\n",
       "      Diabetes  Alcoholism  Handicap  SMS_received  App-kept  Wait_time  \\\n",
       "5424         1           1         0             0         0          2   \n",
       "\n",
       "      Conditions_total  \n",
       "5424                 5  "
      ]
     },
     "execution_count": 42,
     "metadata": {},
     "output_type": "execute_result"
    }
   ],
   "source": [
    "df_app.iloc[[5424]]  # Calling up that row (5424) again to confirm..."
   ]
  },
  {
   "cell_type": "markdown",
   "metadata": {},
   "source": [
    "*Ok... 2 in Handicap was replaced with 0... alright. But Conditions_total remain 5. Sad, but we'll have to manually replace the 5 with 3, which is obviously supposed to be the total.* "
   ]
  },
  {
   "cell_type": "code",
   "execution_count": 43,
   "metadata": {},
   "outputs": [],
   "source": [
    "df_app['Conditions_total'] = df_app['Conditions_total'].astype(str).str.replace(\"5\",\"3\").astype(int)"
   ]
  },
  {
   "cell_type": "markdown",
   "metadata": {},
   "source": [
    " *Convert Conditions_total column to str type data. Then, from the str type, replace \"5\" with \"3\" and convert column back to int.*"
   ]
  },
  {
   "cell_type": "code",
   "execution_count": 44,
   "metadata": {
    "scrolled": false
   },
   "outputs": [
    {
     "data": {
      "text/html": [
       "<div>\n",
       "<style scoped>\n",
       "    .dataframe tbody tr th:only-of-type {\n",
       "        vertical-align: middle;\n",
       "    }\n",
       "\n",
       "    .dataframe tbody tr th {\n",
       "        vertical-align: top;\n",
       "    }\n",
       "\n",
       "    .dataframe thead th {\n",
       "        text-align: right;\n",
       "    }\n",
       "</style>\n",
       "<table border=\"1\" class=\"dataframe\">\n",
       "  <thead>\n",
       "    <tr style=\"text-align: right;\">\n",
       "      <th></th>\n",
       "      <th>PatientId</th>\n",
       "      <th>AppointmentID</th>\n",
       "      <th>Gender</th>\n",
       "      <th>ScheduledDay</th>\n",
       "      <th>AppointmentDay</th>\n",
       "      <th>Age</th>\n",
       "      <th>Neighbourhood</th>\n",
       "      <th>Scholarship</th>\n",
       "      <th>Hypertension</th>\n",
       "      <th>Diabetes</th>\n",
       "      <th>Alcoholism</th>\n",
       "      <th>Handicap</th>\n",
       "      <th>SMS_received</th>\n",
       "      <th>App-kept</th>\n",
       "      <th>Wait_time</th>\n",
       "      <th>Conditions_total</th>\n",
       "    </tr>\n",
       "  </thead>\n",
       "  <tbody>\n",
       "    <tr>\n",
       "      <th>5424</th>\n",
       "      <td>1647279714116.0</td>\n",
       "      <td>5647342</td>\n",
       "      <td>M</td>\n",
       "      <td>2016-05-02 13:24:36+00:00</td>\n",
       "      <td>2016-05-04 00:00:00+00:00</td>\n",
       "      <td>65.0</td>\n",
       "      <td>SANTO ANDRÉ</td>\n",
       "      <td>0</td>\n",
       "      <td>1</td>\n",
       "      <td>1</td>\n",
       "      <td>1</td>\n",
       "      <td>0</td>\n",
       "      <td>0</td>\n",
       "      <td>0</td>\n",
       "      <td>2</td>\n",
       "      <td>3</td>\n",
       "    </tr>\n",
       "  </tbody>\n",
       "</table>\n",
       "</div>"
      ],
      "text/plain": [
       "            PatientId AppointmentID Gender              ScheduledDay  \\\n",
       "5424  1647279714116.0       5647342      M 2016-05-02 13:24:36+00:00   \n",
       "\n",
       "                AppointmentDay   Age Neighbourhood  Scholarship  Hypertension  \\\n",
       "5424 2016-05-04 00:00:00+00:00  65.0   SANTO ANDRÉ            0             1   \n",
       "\n",
       "      Diabetes  Alcoholism  Handicap  SMS_received  App-kept  Wait_time  \\\n",
       "5424         1           1         0             0         0          2   \n",
       "\n",
       "      Conditions_total  \n",
       "5424                 3  "
      ]
     },
     "execution_count": 44,
     "metadata": {},
     "output_type": "execute_result"
    }
   ],
   "source": [
    "df_app.iloc[[5424]] # We'll take another look at that row 5424 now."
   ]
  },
  {
   "cell_type": "markdown",
   "metadata": {},
   "source": [
    "*Perfect! Conditions_total is now 3. Next... take value counts of \"Conditions_total\" again to confirm errant figure is out...so...*"
   ]
  },
  {
   "cell_type": "code",
   "execution_count": 45,
   "metadata": {
    "scrolled": false
   },
   "outputs": [
    {
     "data": {
      "text/plain": [
       "0    84115\n",
       "1    18014\n",
       "2     7710\n",
       "3      625\n",
       "4       63\n",
       "Name: Conditions_total, dtype: int64"
      ]
     },
     "execution_count": 45,
     "metadata": {},
     "output_type": "execute_result"
    }
   ],
   "source": [
    "df_app[\"Conditions_total\"].value_counts() # Value counts"
   ]
  },
  {
   "cell_type": "code",
   "execution_count": 46,
   "metadata": {},
   "outputs": [],
   "source": [
    "dfc_tot = df_app.loc[(df_app[\"Conditions_total\"] > 0) & (df_app[\"App-kept\"] >= 0), [\"Conditions_total\", \"App-kept\"]]"
   ]
  },
  {
   "cell_type": "markdown",
   "metadata": {},
   "source": [
    "*Now, we move on to comparing comparing Conditions_total to App-kept. We basically first reference the subset \"Conditions_total\" greater than 0 against the \"App-kept\" subset greater than 0. This is so that we're able to rid ourselves of all rows carrying unspecified conditions.We then pass the resultant list onto a new dataframe (dfc_tot) to make it shorter for subsequent use.*\n",
    "\n",
    "*And that was looong... pheeew!*"
   ]
  },
  {
   "cell_type": "code",
   "execution_count": 47,
   "metadata": {},
   "outputs": [
    {
     "data": {
      "text/plain": [
       "26412"
      ]
     },
     "execution_count": 47,
     "metadata": {},
     "output_type": "execute_result"
    }
   ],
   "source": [
    "dfc_tot.value_counts().sum() # sum of value counts"
   ]
  },
  {
   "cell_type": "markdown",
   "metadata": {},
   "source": [
    "*This represents our sample size. Shortening the long line of code definitely got advantages.*"
   ]
  },
  {
   "cell_type": "code",
   "execution_count": 48,
   "metadata": {
    "scrolled": false
   },
   "outputs": [
    {
     "data": {
      "text/plain": [
       "Conditions_total  App-kept\n",
       "1                 1           14781\n",
       "2                 1            6346\n",
       "1                 0            3233\n",
       "2                 0            1364\n",
       "3                 1             518\n",
       "                  0             107\n",
       "4                 1              51\n",
       "                  0              12\n",
       "dtype: int64"
      ]
     },
     "execution_count": 48,
     "metadata": {},
     "output_type": "execute_result"
    }
   ],
   "source": [
    "dfc_tot.value_counts() # Comparing value counts of lists housed inside the new dataframe."
   ]
  },
  {
   "cell_type": "code",
   "execution_count": 49,
   "metadata": {},
   "outputs": [
    {
     "data": {
      "text/plain": [
       "<matplotlib.legend.Legend at 0x9fc15520>"
      ]
     },
     "execution_count": 49,
     "metadata": {},
     "output_type": "execute_result"
    },
    {
     "data": {
      "image/png": "[encoded data removed]",
      "text/plain": [
       "<Figure size 432x288 with 1 Axes>"
      ]
     },
     "metadata": {
      "needs_background": "light"
     },
     "output_type": "display_data"
    }
   ],
   "source": [
    "blu = [\"App-kept\"]\n",
    "plt.title('Total Appointments Kept and Attitude to Appointments (Conditions_total, App-kept)')\n",
    "plt.xlabel('Conditions Suffered, App-kept')\n",
    "plt.ylabel('Number of Appointments Kept')\n",
    "dfc_tot.value_counts().plot.bar()\n",
    "plt.legend(blu, loc='upper center')"
   ]
  },
  {
   "cell_type": "markdown",
   "metadata": {},
   "source": [
    "*Interesting... of all 26412 appointments, just 6346 appointments were kept by people that suffer up to 2 conditions. Those with up to 3 and 4 conditions that kept appointments are even much lower. All these as compared to 14781 appointments kept by people that suffered just 1 condition. Hmmm... lets see the percentages...* "
   ]
  },
  {
   "cell_type": "code",
   "execution_count": 50,
   "metadata": {
    "scrolled": true
   },
   "outputs": [
    {
     "data": {
      "text/plain": [
       "Conditions_total  App-kept\n",
       "1                 1           55.96%\n",
       "2                 1           24.03%\n",
       "1                 0           12.24%\n",
       "2                 0            5.16%\n",
       "3                 1            1.96%\n",
       "                  0            0.41%\n",
       "4                 1            0.19%\n",
       "                  0            0.05%\n",
       "dtype: object"
      ]
     },
     "execution_count": 50,
     "metadata": {},
     "output_type": "execute_result"
    }
   ],
   "source": [
    "dfc_tot.value_counts(normalize=True).mul(100).round(2).astype(str) + '%' "
   ]
  },
  {
   "cell_type": "markdown",
   "metadata": {},
   "source": [
    "*Find the total value counts of the new dataframe (dfc_tot) in rates, multiply your answer by 100, round to 2 places of decimal, convert your result to str and add percentage symbols.*"
   ]
  },
  {
   "cell_type": "markdown",
   "metadata": {},
   "source": [
    ">- *55.96 percent of the appointments were kept by people with just 1 condition.*\n",
    ">\n",
    ">- *24.03 percent of the appointments were kept by people with 2 condidtions.*\n",
    ">\n",
    ">- *People with 3 and 4 medical conditions kept just 1.96 and 0.19 percent of the appointments respectively.*\n",
    "\n",
    "*But... is that the whole story?*"
   ]
  },
  {
   "cell_type": "code",
   "execution_count": 51,
   "metadata": {
    "scrolled": true
   },
   "outputs": [],
   "source": [
    "dfc_2 = df_app.loc[(df_app[\"Conditions_total\"] == 2) & (df_app[\"App-kept\"] >= 0), [\"Conditions_total\", \"App-kept\"]]"
   ]
  },
  {
   "cell_type": "markdown",
   "metadata": {},
   "source": [
    "*Numbers can be tricky. How about we find the rates of appointment kept within each subgroup? That is, rate of appointment kept within those with just 2, 3, 4 conditions, within those with just 1 and within those with unspecified conditions. We begin by creating a new dataframe (dfc_2) for list of people with just 2 conditions that did or did not keep their appointments.*\n"
   ]
  },
  {
   "cell_type": "code",
   "execution_count": 52,
   "metadata": {
    "scrolled": true
   },
   "outputs": [
    {
     "data": {
      "text/plain": [
       "7710"
      ]
     },
     "execution_count": 52,
     "metadata": {},
     "output_type": "execute_result"
    }
   ],
   "source": [
    "dfc_2.value_counts().sum() # Sum of their total value counts."
   ]
  },
  {
   "cell_type": "markdown",
   "metadata": {},
   "source": [
    "*Just 7710 were appointments booked for people with exactly 2 receorded medical conditions? Woah! Ok... lets see the breakdown first...*"
   ]
  },
  {
   "cell_type": "code",
   "execution_count": 53,
   "metadata": {
    "scrolled": true
   },
   "outputs": [
    {
     "data": {
      "text/plain": [
       "Conditions_total  App-kept\n",
       "2                 1           6346\n",
       "                  0           1364\n",
       "dtype: int64"
      ]
     },
     "execution_count": 53,
     "metadata": {},
     "output_type": "execute_result"
    }
   ],
   "source": [
    "dfc_2.value_counts() # Value counts of people with exactly 2 conditions that did or did not keep their appointments."
   ]
  },
  {
   "cell_type": "markdown",
   "metadata": {},
   "source": [
    "*Interesting... of a total of 7710 booked appointments, 6346 were actually kept.*\n",
    "*But... noticed how all the figures are same as those we got from earlier?*\n",
    "*Don't be mistaken though... the next cell paints an entirely different picture.*"
   ]
  },
  {
   "cell_type": "code",
   "execution_count": 54,
   "metadata": {
    "scrolled": true
   },
   "outputs": [
    {
     "data": {
      "text/plain": [
       "Conditions_total  App-kept\n",
       "2                 1           82.0%\n",
       "                  0           18.0%\n",
       "dtype: object"
      ]
     },
     "execution_count": 54,
     "metadata": {},
     "output_type": "execute_result"
    }
   ],
   "source": [
    "dfc_2.value_counts(normalize=True).mul(100).round().astype(str) + '%' "
   ]
  },
  {
   "cell_type": "markdown",
   "metadata": {},
   "source": [
    "*We'll take percentage of the value counts. So...take value counts of the new dataframe (dfc_2) in rates, multiply by 100, round it up to 0 decimal place, convert to str and add percentage symbols to the result.*"
   ]
  },
  {
   "cell_type": "code",
   "execution_count": 55,
   "metadata": {
    "scrolled": false
   },
   "outputs": [
    {
     "name": "stderr",
     "output_type": "stream",
     "text": [
      "/data/user/0/ru.iiec.pydroid3/files/arm-linux-androideabi/lib/python3.9/site-packages/matplotlib/bezier.py:216: RuntimeWarning: divide by zero encountered in power\n",
      "  return (np.power.outer(1 - t, self._orders[::-1])\n",
      "/data/user/0/ru.iiec.pydroid3/files/arm-linux-androideabi/lib/python3.9/site-packages/matplotlib/bezier.py:217: RuntimeWarning: divide by zero encountered in power\n",
      "  * np.power.outer(t, self._orders)) @ self._px\n"
     ]
    },
    {
     "data": {
      "image/png": "[encoded data removed]",
      "text/plain": [
       "<Figure size 432x288 with 1 Axes>"
      ]
     },
     "metadata": {},
     "output_type": "display_data"
    }
   ],
   "source": [
    "App_2 = dfc_2.value_counts(normalize=True).mul(100).round()\n",
    "Pies = [\"App-kept\", \"App-not-kept\"]\n",
    "\n",
    "\n",
    "plt.title(\"Rate of Appointments Kept By Sufferers of Just 2 Conditions\", y=1.5)\n",
    "plt.axis('equal'); \n",
    "explode = (0, 0.5)\n",
    "plt.pie(App_2, radius=1.8, labels = Pies, startangle = 90, explode=explode)\n",
    "plt.legend(Pies, loc=\"best\");"
   ]
  },
  {
   "cell_type": "markdown",
   "metadata": {},
   "source": [
    ">- *Amazing! Within the subset of people with exactly 2 recorded medical conditions, 82 percent of them kept their appointments. Just 18 percent of them didn't.*\n",
    ">\n",
    "*Lets see what we'll find with patients that suffered 3 or more conditions...*"
   ]
  },
  {
   "cell_type": "code",
   "execution_count": 56,
   "metadata": {},
   "outputs": [],
   "source": [
    "dfc_3 = df_app.loc[(df_app[\"Conditions_total\"] == 3) & (df_app[\"App-kept\"] >= 0), [\"Conditions_total\", \"App-kept\"]]"
   ]
  },
  {
   "cell_type": "markdown",
   "metadata": {},
   "source": [
    "*For those that suffered exactly 3 conditions... As usual, we create a new dataframe (dfc_3) to house lists of those with exactly 3 conditions and appointment kept.*\n"
   ]
  },
  {
   "cell_type": "code",
   "execution_count": 57,
   "metadata": {},
   "outputs": [
    {
     "data": {
      "text/plain": [
       "625"
      ]
     },
     "execution_count": 57,
     "metadata": {},
     "output_type": "execute_result"
    }
   ],
   "source": [
    "dfc_3.value_counts().sum() # Sum of value counts..."
   ]
  },
  {
   "cell_type": "markdown",
   "metadata": {},
   "source": [
    "*Just 625 people in this group?*"
   ]
  },
  {
   "cell_type": "code",
   "execution_count": 58,
   "metadata": {
    "scrolled": true
   },
   "outputs": [
    {
     "data": {
      "text/plain": [
       "Conditions_total  App-kept\n",
       "3                 1           518\n",
       "                  0           107\n",
       "dtype: int64"
      ]
     },
     "execution_count": 58,
     "metadata": {},
     "output_type": "execute_result"
    }
   ],
   "source": [
    "dfc_3.value_counts() # Value counts..."
   ]
  },
  {
   "cell_type": "markdown",
   "metadata": {},
   "source": [
    "*The breakdown... 518 of the 625 kept appointments. Just 107 didn't...*"
   ]
  },
  {
   "cell_type": "code",
   "execution_count": 59,
   "metadata": {
    "scrolled": false
   },
   "outputs": [
    {
     "data": {
      "text/plain": [
       "Conditions_total  App-kept\n",
       "3                 1           83.0%\n",
       "                  0           17.0%\n",
       "dtype: object"
      ]
     },
     "execution_count": 59,
     "metadata": {},
     "output_type": "execute_result"
    }
   ],
   "source": [
    "dfc_3.value_counts(normalize=True).mul(100).round().astype(str) + '%' "
   ]
  },
  {
   "cell_type": "markdown",
   "metadata": {},
   "source": [
    "*Percentages... express value counts in rates, multiply by 100, result in 0 decimal places, converted to str + percentage symbols.*\n"
   ]
  },
  {
   "cell_type": "code",
   "execution_count": 60,
   "metadata": {
    "scrolled": false
   },
   "outputs": [
    {
     "data": {
      "image/png": "[encoded data removed]",
      "text/plain": [
       "<Figure size 432x288 with 1 Axes>"
      ]
     },
     "metadata": {},
     "output_type": "display_data"
    }
   ],
   "source": [
    "App_3 = dfc_3.value_counts(normalize=True).mul(100).round()\n",
    "Pies = [\"App-kept\", \"App-not-kept\"]\n",
    "\n",
    "\n",
    "plt.title(\"Rate of Appointments Kept By Sufferers of Just 3 Conditions\", y=1.5)\n",
    "plt.axis('equal'); \n",
    "explode = (0, 0.5)\n",
    "plt.pie(App_3, radius=1.8, labels = Pies, startangle = 90, explode=explode)\n",
    "plt.legend(Pies, loc=\"best\");"
   ]
  },
  {
   "cell_type": "markdown",
   "metadata": {},
   "source": [
    ">- *83 percent kept their appointments. 17 percent didn't.*\n",
    "\n",
    "*What do we find within those with all 4 listed conditions?*"
   ]
  },
  {
   "cell_type": "code",
   "execution_count": 61,
   "metadata": {},
   "outputs": [],
   "source": [
    "dfc_4 = df_app.loc[(df_app[\"Conditions_total\"] == 4) & (df_app[\"App-kept\"] >= 0), [\"Conditions_total\", \"App-kept\"]]"
   ]
  },
  {
   "cell_type": "markdown",
   "metadata": {},
   "source": [
    "*Again, we create a new dataframe (dfc_4) to house our lists...*"
   ]
  },
  {
   "cell_type": "code",
   "execution_count": 62,
   "metadata": {
    "scrolled": true
   },
   "outputs": [
    {
     "data": {
      "text/plain": [
       "63"
      ]
     },
     "execution_count": 62,
     "metadata": {},
     "output_type": "execute_result"
    }
   ],
   "source": [
    "dfc_4.value_counts().sum() # Our sum of value counts..."
   ]
  },
  {
   "cell_type": "markdown",
   "metadata": {},
   "source": [
    "*63 people in total...*"
   ]
  },
  {
   "cell_type": "code",
   "execution_count": 63,
   "metadata": {
    "scrolled": true
   },
   "outputs": [
    {
     "data": {
      "text/plain": [
       "Conditions_total  App-kept\n",
       "4                 1           51\n",
       "                  0           12\n",
       "dtype: int64"
      ]
     },
     "execution_count": 63,
     "metadata": {},
     "output_type": "execute_result"
    }
   ],
   "source": [
    "dfc_4.value_counts() # Our breakdown..."
   ]
  },
  {
   "cell_type": "markdown",
   "metadata": {},
   "source": [
    "*Just 51 kept their appointments. 12 didn't...*"
   ]
  },
  {
   "cell_type": "code",
   "execution_count": 64,
   "metadata": {
    "scrolled": true
   },
   "outputs": [
    {
     "data": {
      "text/plain": [
       "Conditions_total  App-kept\n",
       "4                 1           81.0%\n",
       "                  0           19.0%\n",
       "dtype: object"
      ]
     },
     "execution_count": 64,
     "metadata": {},
     "output_type": "execute_result"
    }
   ],
   "source": [
    "dfc_4.value_counts(normalize=True).mul(100).round().astype(str) + '%' # Percentages..."
   ]
  },
  {
   "cell_type": "code",
   "execution_count": 65,
   "metadata": {},
   "outputs": [
    {
     "data": {
      "image/png": "[encoded data removed]",
      "text/plain": [
       "<Figure size 432x288 with 1 Axes>"
      ]
     },
     "metadata": {},
     "output_type": "display_data"
    }
   ],
   "source": [
    "App_4 = dfc_4.value_counts(normalize=True).mul(100).round()\n",
    "Pies = [\"App-kept\", \"App-not-kept\"]\n",
    "\n",
    "\n",
    "plt.title(\"Rate of Appointments Kept By Sufferers of All 4 Conditions\", y=1.5)\n",
    "plt.axis('equal'); \n",
    "explode = (0, 0.5)\n",
    "plt.pie(App_4, radius=1.8, labels = Pies, startangle = 90, explode=explode)\n",
    "plt.legend(Pies, loc=\"best\");"
   ]
  },
  {
   "cell_type": "markdown",
   "metadata": {},
   "source": [
    "*Hmmm... the percentage of appointments kept dropped again...*\n",
    ">\n",
    ">- *Within the subset of those that suffered all conditions, 81 percent of them kept their appointments.*\n",
    ">- *19 percent didn't keep.*\n",
    ">\n",
    "*How about those at the other side, the ones that suffered just 1 condition and less?*"
   ]
  },
  {
   "cell_type": "code",
   "execution_count": 66,
   "metadata": {},
   "outputs": [],
   "source": [
    "dfc_1 = df_app.loc[(df_app[\"Conditions_total\"] == 1) & (df_app[\"App-kept\"] >= 0), [\"Conditions_total\", \"App-kept\"]]"
   ]
  },
  {
   "cell_type": "markdown",
   "metadata": {},
   "source": [
    "*Here we go again... for suffers of just 1 condition... new dataframe create (dfc_1), pass lists to it...*"
   ]
  },
  {
   "cell_type": "code",
   "execution_count": 67,
   "metadata": {
    "scrolled": true
   },
   "outputs": [
    {
     "data": {
      "text/plain": [
       "18014"
      ]
     },
     "execution_count": 67,
     "metadata": {},
     "output_type": "execute_result"
    }
   ],
   "source": [
    "dfc_1.value_counts().sum() #Sum of value counts to see our sample size..."
   ]
  },
  {
   "cell_type": "markdown",
   "metadata": {},
   "source": [
    "*Sample size*"
   ]
  },
  {
   "cell_type": "code",
   "execution_count": 68,
   "metadata": {
    "scrolled": false
   },
   "outputs": [
    {
     "data": {
      "text/plain": [
       "Conditions_total  App-kept\n",
       "1                 1           14781\n",
       "                  0            3233\n",
       "dtype: int64"
      ]
     },
     "execution_count": 68,
     "metadata": {},
     "output_type": "execute_result"
    }
   ],
   "source": [
    "dfc_1.value_counts() # Breakdown of value counts... to see how the variables compare..."
   ]
  },
  {
   "cell_type": "markdown",
   "metadata": {},
   "source": [
    "*14781 kept appointments. 3233 didn't.*"
   ]
  },
  {
   "cell_type": "code",
   "execution_count": 69,
   "metadata": {
    "scrolled": false
   },
   "outputs": [
    {
     "data": {
      "text/plain": [
       "Conditions_total  App-kept\n",
       "1                 1           82.0%\n",
       "                  0           18.0%\n",
       "dtype: object"
      ]
     },
     "execution_count": 69,
     "metadata": {},
     "output_type": "execute_result"
    }
   ],
   "source": [
    "dfc_1.value_counts(normalize=True).mul(100).round().astype(str) + '%' # Rates converted to percentages in strings..."
   ]
  },
  {
   "cell_type": "code",
   "execution_count": 70,
   "metadata": {},
   "outputs": [
    {
     "data": {
      "image/png": "[encoded data removed]",
      "text/plain": [
       "<Figure size 432x288 with 1 Axes>"
      ]
     },
     "metadata": {},
     "output_type": "display_data"
    }
   ],
   "source": [
    "App_1 = dfc_1.value_counts(normalize=True).mul(100).round()\n",
    "Pies = [\"App-kept\", \"App-not-kept\"]\n",
    "\n",
    "\n",
    "plt.title(\"Rate of Appointments Kept By Sufferers of Just 1 Condition\", y=1.5)\n",
    "plt.axis('equal'); \n",
    "explode = (0, 0.5)\n",
    "plt.pie(App_1, radius=1.8, labels = Pies, startangle = 90, explode=explode)\n",
    "plt.legend(Pies, loc=\"best\");"
   ]
  },
  {
   "cell_type": "markdown",
   "metadata": {},
   "source": [
    ">- *82 percent of those with just 1 medical condition kept their appointments.*\n",
    ">- *18 percent of them didn't keep their appointments.*\n",
    ">\n",
    "*And those with medical conditions unaccounted for?*"
   ]
  },
  {
   "cell_type": "markdown",
   "metadata": {},
   "source": [
    "### 4. Did patients with unspecified medical conditions have a higher rate of keeping Doctor's appointments than those with recorded conditions?"
   ]
  },
  {
   "cell_type": "code",
   "execution_count": 71,
   "metadata": {},
   "outputs": [],
   "source": [
    "# new dataframe create (dfc_0)... pass lists...\n",
    "\n",
    "dfc_0 = df_app.loc[(df_app[\"Conditions_total\"] < 1) & (df_app[\"App-kept\"] >= 0), [\"Conditions_total\", \"App-kept\"]]"
   ]
  },
  {
   "cell_type": "code",
   "execution_count": 72,
   "metadata": {
    "scrolled": false
   },
   "outputs": [
    {
     "data": {
      "text/plain": [
       "84115"
      ]
     },
     "execution_count": 72,
     "metadata": {},
     "output_type": "execute_result"
    }
   ],
   "source": [
    "dfc_0.value_counts().sum() # Sample size gotten from sum of value counts..."
   ]
  },
  {
   "cell_type": "markdown",
   "metadata": {},
   "source": [
    "*What... 84115 appointments with medical conditions unaccounted for?*"
   ]
  },
  {
   "cell_type": "code",
   "execution_count": 73,
   "metadata": {},
   "outputs": [
    {
     "data": {
      "text/plain": [
       "Conditions_total  App-kept\n",
       "0                 1           66512\n",
       "                  0           17603\n",
       "dtype: int64"
      ]
     },
     "execution_count": 73,
     "metadata": {},
     "output_type": "execute_result"
    }
   ],
   "source": [
    "dfc_0.value_counts() # Breakdown to see how variables compare..."
   ]
  },
  {
   "cell_type": "markdown",
   "metadata": {},
   "source": [
    "*66512 of those actually kept their appointments!*"
   ]
  },
  {
   "cell_type": "code",
   "execution_count": 74,
   "metadata": {
    "scrolled": false
   },
   "outputs": [
    {
     "data": {
      "text/plain": [
       "Conditions_total  App-kept\n",
       "0                 1           79.0%\n",
       "                  0           21.0%\n",
       "dtype: object"
      ]
     },
     "execution_count": 74,
     "metadata": {},
     "output_type": "execute_result"
    }
   ],
   "source": [
    "dfc_0.value_counts(normalize=True).mul(100).round().astype(str) + '%' # Percentages..."
   ]
  },
  {
   "cell_type": "code",
   "execution_count": 75,
   "metadata": {
    "scrolled": true
   },
   "outputs": [
    {
     "data": {
      "image/png": "[encoded data removed]",
      "text/plain": [
       "<Figure size 432x288 with 1 Axes>"
      ]
     },
     "metadata": {},
     "output_type": "display_data"
    }
   ],
   "source": [
    "App_0 = dfc_0.value_counts(normalize=True).mul(100).round()\n",
    "Pies = [\"App-kept\", \"App-not-kept\"]\n",
    "\n",
    "\n",
    "plt.title(\"Rate of Appointments Kept By People With Unspecified Conditions\", y=1.5)\n",
    "plt.axis('equal'); \n",
    "explode = (0, 0.5)\n",
    "plt.pie(App_0, radius=1.8, labels = Pies, startangle = 90, explode=explode)\n",
    "plt.legend(Pies, loc=\"best\");"
   ]
  },
  {
   "cell_type": "markdown",
   "metadata": {},
   "source": [
    ">- *79 percent of unspecified medical conditions kept their appointments. 21 percent did not.*"
   ]
  },
  {
   "cell_type": "markdown",
   "metadata": {},
   "source": [
    "### 5. Which of the conditions had the highest number of sufferers?"
   ]
  },
  {
   "cell_type": "code",
   "execution_count": 76,
   "metadata": {},
   "outputs": [],
   "source": [
    "dfc_high = df_app[[\"Diabetes\", \"Hypertension\", \"Alcoholism\", \"Handicap\"]]"
   ]
  },
  {
   "cell_type": "markdown",
   "metadata": {},
   "source": [
    "*To answer this, we first create a subset of all 4 conditions and pass it to a new dataframe(dfc_high). Thereafter, we'll attempt to get sum of each variable and compare to ascertain which is highest.*"
   ]
  },
  {
   "cell_type": "code",
   "execution_count": 77,
   "metadata": {
    "scrolled": true
   },
   "outputs": [
    {
     "data": {
      "text/plain": [
       "Diabetes         7943\n",
       "Hypertension    21801\n",
       "Alcoholism       3360\n",
       "Handicap         2093\n",
       "dtype: int64"
      ]
     },
     "execution_count": 77,
     "metadata": {},
     "output_type": "execute_result"
    }
   ],
   "source": [
    "dfc_high.sum() # Sum up digits in each category..."
   ]
  },
  {
   "cell_type": "markdown",
   "metadata": {},
   "source": [
    "*Apparently, hypertension came highest with 21801! Lets run a visual for that...* "
   ]
  },
  {
   "cell_type": "code",
   "execution_count": 78,
   "metadata": {
    "scrolled": true
   },
   "outputs": [
    {
     "data": {
      "text/plain": [
       "<matplotlib.legend.Legend at 0xa0229370>"
      ]
     },
     "execution_count": 78,
     "metadata": {},
     "output_type": "execute_result"
    },
    {
     "data": {
      "image/png": "[encoded data removed]",
      "text/plain": [
       "<Figure size 432x288 with 1 Axes>"
      ]
     },
     "metadata": {
      "needs_background": "light"
     },
     "output_type": "display_data"
    }
   ],
   "source": [
    "hint_high = [\"Sufferers\"]\n",
    "plt.title('Conditions and Total Number of Sufferers')\n",
    "plt.xlabel('Conditions')\n",
    "plt.ylabel('Number of Sufferers')\n",
    "dfc_high.sum().plot(kind='bar', color='red')\n",
    "plt.legend(hint_high, loc='best')"
   ]
  },
  {
   "cell_type": "markdown",
   "metadata": {},
   "source": [
    ">- *Hypertension had the highest number of sufferers with 21801 sufferers*"
   ]
  },
  {
   "cell_type": "markdown",
   "metadata": {},
   "source": [
    "<a id='conclusions'></a>\n",
    "## Conclusions\n",
    "\n",
    "> **Findings**: \n",
    ">\n",
    ">- 79.8 percent of the people kept their appointments. 20.2 percent didn't.\n",
    ">- A longer or shorter wait time can predict whether or not a patient would keep his/her Doctor's appointment.\n",
    ">- Patients that suffer more than 1 medical condition did not rate higher on keeping appointments than those that suffered less.\n",
    ">- There is, however, a decline in rate of appointments kept by patients that suffered 4 conditions.\n",
    ">- Patients with unspecified medical conditions did not have a higher rate of keeping Doctor's appointments than those with recorded conditions.\n",
    ">- Hypertension had the highest number of sufferers.\n",
    ">\n",
    "> **Limitations**:\n",
    "> \n",
    ">- The sample size for people with 3 and 4 medical conditions is just too small.\n",
    ">- Better analysis could be achieved if only we had more data that could help us acertain reasons for long wait times.\n",
    ">- PatientId provides us no useful information.\n"
   ]
  }
 ],
 "metadata": {
  "kernelspec": {
   "display_name": "Python 3 (ipykernel)",
   "language": "python",
   "name": "python3"
  },
  "language_info": {
   "codemirror_mode": {
    "name": "ipython",
    "version": 3
   },
   "file_extension": ".py",
   "mimetype": "text/x-python",
   "name": "python",
   "nbconvert_exporter": "python",
   "pygments_lexer": "ipython3",
   "version": "3.9.7"
  }
 },
 "nbformat": 4,
 "nbformat_minor": 2
}
